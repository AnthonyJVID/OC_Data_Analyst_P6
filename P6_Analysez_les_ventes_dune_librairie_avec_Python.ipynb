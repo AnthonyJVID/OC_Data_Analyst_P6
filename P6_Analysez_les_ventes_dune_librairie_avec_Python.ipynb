{
 "cells": [
  {
   "cell_type": "markdown",
   "id": "90805352",
   "metadata": {},
   "source": [
    "# <center><span style=\"color:#0000ff\"><u>Projet 6 - Analysez les ventes d'une librairie avec Python </u></span></center> "
   ]
  },
  {
   "cell_type": "markdown",
   "id": "598bd0e6",
   "metadata": {},
   "source": [
    "## <center><span style=\"color:#0131b4\"><u> I - Importation des librairies </u> </span></center>"
   ]
  },
  {
   "cell_type": "code",
   "execution_count": 1,
   "id": "027fc106",
   "metadata": {},
   "outputs": [],
   "source": [
    "import pandas as pd\n",
    "import numpy as np\n",
    "import matplotlib.pyplot as plt\n",
    "import seaborn as sns\n",
    "from datetime import datetime\n",
    "#from ydata_profiling import ProfileReport\n",
    "from statsmodels.tsa.seasonal import seasonal_decompose\n",
    "from scipy import stats\n",
    "from statsmodels.tsa.seasonal import seasonal_decompose\n",
    "from IPython.display import display, Markdown\n",
    "from scipy.stats import chi2_contingency\n",
    "from scipy.stats import pearsonr\n",
    "from scipy.stats import f_oneway"
   ]
  },
  {
   "cell_type": "markdown",
   "id": "f0580c15",
   "metadata": {},
   "source": [
    "## <center><span style=\"color:#0131b4\"><u>II - Importation des fichiers</u></span></center>"
   ]
  },
  {
   "cell_type": "code",
   "execution_count": 2,
   "id": "2c614f6c",
   "metadata": {},
   "outputs": [],
   "source": [
    "conso = pd.read_csv(\"customers.csv\")\n",
    "produit = pd.read_csv(\"products.csv\")\n",
    "transaction = pd.read_csv(\"transactions.csv\")"
   ]
  },
  {
   "cell_type": "markdown",
   "id": "0c7e3821",
   "metadata": {},
   "source": [
    "## <center><span style=\"color:#0131b4\"><u>III - Exploration des dataframes</u></span></center>"
   ]
  },
  {
   "cell_type": "markdown",
   "id": "957604c4",
   "metadata": {},
   "source": [
    "###  <center><span style=\"color:#2db4af\"><u>1 - Visualisation du dataframe \"Conso\" </u></span></center>"
   ]
  },
  {
   "cell_type": "code",
   "execution_count": 3,
   "id": "f47449db",
   "metadata": {},
   "outputs": [
    {
     "data": {
      "text/html": [
       "<div>\n",
       "<style scoped>\n",
       "    .dataframe tbody tr th:only-of-type {\n",
       "        vertical-align: middle;\n",
       "    }\n",
       "\n",
       "    .dataframe tbody tr th {\n",
       "        vertical-align: top;\n",
       "    }\n",
       "\n",
       "    .dataframe thead th {\n",
       "        text-align: right;\n",
       "    }\n",
       "</style>\n",
       "<table border=\"1\" class=\"dataframe\">\n",
       "  <thead>\n",
       "    <tr style=\"text-align: right;\">\n",
       "      <th></th>\n",
       "      <th>client_id</th>\n",
       "      <th>sex</th>\n",
       "      <th>birth</th>\n",
       "    </tr>\n",
       "  </thead>\n",
       "  <tbody>\n",
       "    <tr>\n",
       "      <th>0</th>\n",
       "      <td>c_4410</td>\n",
       "      <td>f</td>\n",
       "      <td>1967</td>\n",
       "    </tr>\n",
       "    <tr>\n",
       "      <th>1</th>\n",
       "      <td>c_7839</td>\n",
       "      <td>f</td>\n",
       "      <td>1975</td>\n",
       "    </tr>\n",
       "    <tr>\n",
       "      <th>2</th>\n",
       "      <td>c_1699</td>\n",
       "      <td>f</td>\n",
       "      <td>1984</td>\n",
       "    </tr>\n",
       "    <tr>\n",
       "      <th>3</th>\n",
       "      <td>c_5961</td>\n",
       "      <td>f</td>\n",
       "      <td>1962</td>\n",
       "    </tr>\n",
       "    <tr>\n",
       "      <th>4</th>\n",
       "      <td>c_5320</td>\n",
       "      <td>m</td>\n",
       "      <td>1943</td>\n",
       "    </tr>\n",
       "    <tr>\n",
       "      <th>...</th>\n",
       "      <td>...</td>\n",
       "      <td>...</td>\n",
       "      <td>...</td>\n",
       "    </tr>\n",
       "    <tr>\n",
       "      <th>8618</th>\n",
       "      <td>c_7920</td>\n",
       "      <td>m</td>\n",
       "      <td>1956</td>\n",
       "    </tr>\n",
       "    <tr>\n",
       "      <th>8619</th>\n",
       "      <td>c_7403</td>\n",
       "      <td>f</td>\n",
       "      <td>1970</td>\n",
       "    </tr>\n",
       "    <tr>\n",
       "      <th>8620</th>\n",
       "      <td>c_5119</td>\n",
       "      <td>m</td>\n",
       "      <td>1974</td>\n",
       "    </tr>\n",
       "    <tr>\n",
       "      <th>8621</th>\n",
       "      <td>c_5643</td>\n",
       "      <td>f</td>\n",
       "      <td>1968</td>\n",
       "    </tr>\n",
       "    <tr>\n",
       "      <th>8622</th>\n",
       "      <td>c_84</td>\n",
       "      <td>f</td>\n",
       "      <td>1982</td>\n",
       "    </tr>\n",
       "  </tbody>\n",
       "</table>\n",
       "<p>8623 rows × 3 columns</p>\n",
       "</div>"
      ],
      "text/plain": [
       "     client_id sex  birth\n",
       "0       c_4410   f   1967\n",
       "1       c_7839   f   1975\n",
       "2       c_1699   f   1984\n",
       "3       c_5961   f   1962\n",
       "4       c_5320   m   1943\n",
       "...        ...  ..    ...\n",
       "8618    c_7920   m   1956\n",
       "8619    c_7403   f   1970\n",
       "8620    c_5119   m   1974\n",
       "8621    c_5643   f   1968\n",
       "8622      c_84   f   1982\n",
       "\n",
       "[8623 rows x 3 columns]"
      ]
     },
     "execution_count": 3,
     "metadata": {},
     "output_type": "execute_result"
    }
   ],
   "source": [
    "conso"
   ]
  },
  {
   "cell_type": "code",
   "execution_count": 4,
   "id": "94fd3603",
   "metadata": {},
   "outputs": [
    {
     "name": "stdout",
     "output_type": "stream",
     "text": [
      "<class 'pandas.core.frame.DataFrame'>\n",
      "RangeIndex: 8623 entries, 0 to 8622\n",
      "Data columns (total 3 columns):\n",
      " #   Column     Non-Null Count  Dtype \n",
      "---  ------     --------------  ----- \n",
      " 0   client_id  8623 non-null   object\n",
      " 1   sex        8623 non-null   object\n",
      " 2   birth      8623 non-null   int64 \n",
      "dtypes: int64(1), object(2)\n",
      "memory usage: 202.2+ KB\n"
     ]
    }
   ],
   "source": [
    "conso.info()"
   ]
  },
  {
   "cell_type": "code",
   "execution_count": 5,
   "id": "fdbaa864",
   "metadata": {},
   "outputs": [
    {
     "data": {
      "text/html": [
       "<div>\n",
       "<style scoped>\n",
       "    .dataframe tbody tr th:only-of-type {\n",
       "        vertical-align: middle;\n",
       "    }\n",
       "\n",
       "    .dataframe tbody tr th {\n",
       "        vertical-align: top;\n",
       "    }\n",
       "\n",
       "    .dataframe thead th {\n",
       "        text-align: right;\n",
       "    }\n",
       "</style>\n",
       "<table border=\"1\" class=\"dataframe\">\n",
       "  <thead>\n",
       "    <tr style=\"text-align: right;\">\n",
       "      <th></th>\n",
       "      <th>client_id</th>\n",
       "      <th>sex</th>\n",
       "      <th>birth</th>\n",
       "    </tr>\n",
       "  </thead>\n",
       "  <tbody>\n",
       "    <tr>\n",
       "      <th>count</th>\n",
       "      <td>8623</td>\n",
       "      <td>8623</td>\n",
       "      <td>8623.000000</td>\n",
       "    </tr>\n",
       "    <tr>\n",
       "      <th>unique</th>\n",
       "      <td>8623</td>\n",
       "      <td>2</td>\n",
       "      <td>NaN</td>\n",
       "    </tr>\n",
       "    <tr>\n",
       "      <th>top</th>\n",
       "      <td>c_4410</td>\n",
       "      <td>f</td>\n",
       "      <td>NaN</td>\n",
       "    </tr>\n",
       "    <tr>\n",
       "      <th>freq</th>\n",
       "      <td>1</td>\n",
       "      <td>4491</td>\n",
       "      <td>NaN</td>\n",
       "    </tr>\n",
       "    <tr>\n",
       "      <th>mean</th>\n",
       "      <td>NaN</td>\n",
       "      <td>NaN</td>\n",
       "      <td>1978.280877</td>\n",
       "    </tr>\n",
       "    <tr>\n",
       "      <th>std</th>\n",
       "      <td>NaN</td>\n",
       "      <td>NaN</td>\n",
       "      <td>16.919535</td>\n",
       "    </tr>\n",
       "    <tr>\n",
       "      <th>min</th>\n",
       "      <td>NaN</td>\n",
       "      <td>NaN</td>\n",
       "      <td>1929.000000</td>\n",
       "    </tr>\n",
       "    <tr>\n",
       "      <th>25%</th>\n",
       "      <td>NaN</td>\n",
       "      <td>NaN</td>\n",
       "      <td>1966.000000</td>\n",
       "    </tr>\n",
       "    <tr>\n",
       "      <th>50%</th>\n",
       "      <td>NaN</td>\n",
       "      <td>NaN</td>\n",
       "      <td>1979.000000</td>\n",
       "    </tr>\n",
       "    <tr>\n",
       "      <th>75%</th>\n",
       "      <td>NaN</td>\n",
       "      <td>NaN</td>\n",
       "      <td>1992.000000</td>\n",
       "    </tr>\n",
       "    <tr>\n",
       "      <th>max</th>\n",
       "      <td>NaN</td>\n",
       "      <td>NaN</td>\n",
       "      <td>2004.000000</td>\n",
       "    </tr>\n",
       "  </tbody>\n",
       "</table>\n",
       "</div>"
      ],
      "text/plain": [
       "       client_id   sex        birth\n",
       "count       8623  8623  8623.000000\n",
       "unique      8623     2          NaN\n",
       "top       c_4410     f          NaN\n",
       "freq           1  4491          NaN\n",
       "mean         NaN   NaN  1978.280877\n",
       "std          NaN   NaN    16.919535\n",
       "min          NaN   NaN  1929.000000\n",
       "25%          NaN   NaN  1966.000000\n",
       "50%          NaN   NaN  1979.000000\n",
       "75%          NaN   NaN  1992.000000\n",
       "max          NaN   NaN  2004.000000"
      ]
     },
     "execution_count": 5,
     "metadata": {},
     "output_type": "execute_result"
    }
   ],
   "source": [
    "conso.describe(include='all')"
   ]
  },
  {
   "cell_type": "code",
   "execution_count": 6,
   "id": "aacfa616",
   "metadata": {},
   "outputs": [],
   "source": [
    "# Création d'une fonction à double usage :\n",
    "# 1 - Vérification de l'unicité d'une colonne\n",
    "# 2 - Indique si il y a des doublons dans la colonne ainsi que la quantité trouvée\n",
    "def verifClePrimaireEtDoublons(df, colonne):\n",
    "    \"\"\"Fonction qui prend en entrée un dataframe et une colonne, vérifie si cette colonne est une clé primaire valide, détecte les doublons et renvoie les doublons s'il y en a\"\"\"\n",
    "    valeurs_uniques = df[colonne].nunique()\n",
    "    nombre_lignes = len(df)\n",
    "    doublons = df[df.duplicated(subset=colonne, keep=False)]\n",
    "    if valeurs_uniques == nombre_lignes:\n",
    "        print(f\"La colonne '{colonne}' est une clé primaire valide\")\n",
    "    else:\n",
    "        print(f\"La colonne '{colonne}' n'est pas une clé primaire valide\")\n",
    "\n",
    "    if len(doublons)>0:\n",
    "        print(f\"Il y a {len(doublons)} doublons dans la colonne '{colonne}'.\")\n",
    "        return doublons\n",
    "    else:\n",
    "        print(f\"Il n'y a pas de doublons dans la colonne '{colonne}'.\")\n",
    "        return"
   ]
  },
  {
   "cell_type": "code",
   "execution_count": 7,
   "id": "97f07473",
   "metadata": {
    "scrolled": true
   },
   "outputs": [
    {
     "name": "stdout",
     "output_type": "stream",
     "text": [
      "La colonne 'client_id' est une clé primaire valide\n",
      "Il n'y a pas de doublons dans la colonne 'client_id'.\n"
     ]
    }
   ],
   "source": [
    "verifClePrimaireEtDoublons(conso, \"client_id\")"
   ]
  },
  {
   "cell_type": "code",
   "execution_count": 8,
   "id": "db0ef812",
   "metadata": {},
   "outputs": [],
   "source": [
    "#profile = ProfileReport(conso, minimal=True)\n",
    "#profile.to_file(\"conso_v1.html\")"
   ]
  },
  {
   "cell_type": "markdown",
   "id": "98fa563f",
   "metadata": {},
   "source": [
    "###  <center><span style=\"color:#2db4af\"><u>2 - Visualisation du dataframe \"produit\" </u></span></center>"
   ]
  },
  {
   "cell_type": "code",
   "execution_count": 9,
   "id": "419e82d7",
   "metadata": {},
   "outputs": [
    {
     "data": {
      "text/html": [
       "<div>\n",
       "<style scoped>\n",
       "    .dataframe tbody tr th:only-of-type {\n",
       "        vertical-align: middle;\n",
       "    }\n",
       "\n",
       "    .dataframe tbody tr th {\n",
       "        vertical-align: top;\n",
       "    }\n",
       "\n",
       "    .dataframe thead th {\n",
       "        text-align: right;\n",
       "    }\n",
       "</style>\n",
       "<table border=\"1\" class=\"dataframe\">\n",
       "  <thead>\n",
       "    <tr style=\"text-align: right;\">\n",
       "      <th></th>\n",
       "      <th>id_prod</th>\n",
       "      <th>price</th>\n",
       "      <th>categ</th>\n",
       "    </tr>\n",
       "  </thead>\n",
       "  <tbody>\n",
       "    <tr>\n",
       "      <th>0</th>\n",
       "      <td>0_1421</td>\n",
       "      <td>19.99</td>\n",
       "      <td>0</td>\n",
       "    </tr>\n",
       "    <tr>\n",
       "      <th>1</th>\n",
       "      <td>0_1368</td>\n",
       "      <td>5.13</td>\n",
       "      <td>0</td>\n",
       "    </tr>\n",
       "    <tr>\n",
       "      <th>2</th>\n",
       "      <td>0_731</td>\n",
       "      <td>17.99</td>\n",
       "      <td>0</td>\n",
       "    </tr>\n",
       "    <tr>\n",
       "      <th>3</th>\n",
       "      <td>1_587</td>\n",
       "      <td>4.99</td>\n",
       "      <td>1</td>\n",
       "    </tr>\n",
       "    <tr>\n",
       "      <th>4</th>\n",
       "      <td>0_1507</td>\n",
       "      <td>3.99</td>\n",
       "      <td>0</td>\n",
       "    </tr>\n",
       "    <tr>\n",
       "      <th>...</th>\n",
       "      <td>...</td>\n",
       "      <td>...</td>\n",
       "      <td>...</td>\n",
       "    </tr>\n",
       "    <tr>\n",
       "      <th>3282</th>\n",
       "      <td>2_23</td>\n",
       "      <td>115.99</td>\n",
       "      <td>2</td>\n",
       "    </tr>\n",
       "    <tr>\n",
       "      <th>3283</th>\n",
       "      <td>0_146</td>\n",
       "      <td>17.14</td>\n",
       "      <td>0</td>\n",
       "    </tr>\n",
       "    <tr>\n",
       "      <th>3284</th>\n",
       "      <td>0_802</td>\n",
       "      <td>11.22</td>\n",
       "      <td>0</td>\n",
       "    </tr>\n",
       "    <tr>\n",
       "      <th>3285</th>\n",
       "      <td>1_140</td>\n",
       "      <td>38.56</td>\n",
       "      <td>1</td>\n",
       "    </tr>\n",
       "    <tr>\n",
       "      <th>3286</th>\n",
       "      <td>0_1920</td>\n",
       "      <td>25.16</td>\n",
       "      <td>0</td>\n",
       "    </tr>\n",
       "  </tbody>\n",
       "</table>\n",
       "<p>3287 rows × 3 columns</p>\n",
       "</div>"
      ],
      "text/plain": [
       "     id_prod   price  categ\n",
       "0     0_1421   19.99      0\n",
       "1     0_1368    5.13      0\n",
       "2      0_731   17.99      0\n",
       "3      1_587    4.99      1\n",
       "4     0_1507    3.99      0\n",
       "...      ...     ...    ...\n",
       "3282    2_23  115.99      2\n",
       "3283   0_146   17.14      0\n",
       "3284   0_802   11.22      0\n",
       "3285   1_140   38.56      1\n",
       "3286  0_1920   25.16      0\n",
       "\n",
       "[3287 rows x 3 columns]"
      ]
     },
     "execution_count": 9,
     "metadata": {},
     "output_type": "execute_result"
    }
   ],
   "source": [
    "produit"
   ]
  },
  {
   "cell_type": "code",
   "execution_count": 10,
   "id": "ab6c3f7a",
   "metadata": {},
   "outputs": [
    {
     "data": {
      "text/plain": [
       "<bound method DataFrame.info of      id_prod   price  categ\n",
       "0     0_1421   19.99      0\n",
       "1     0_1368    5.13      0\n",
       "2      0_731   17.99      0\n",
       "3      1_587    4.99      1\n",
       "4     0_1507    3.99      0\n",
       "...      ...     ...    ...\n",
       "3282    2_23  115.99      2\n",
       "3283   0_146   17.14      0\n",
       "3284   0_802   11.22      0\n",
       "3285   1_140   38.56      1\n",
       "3286  0_1920   25.16      0\n",
       "\n",
       "[3287 rows x 3 columns]>"
      ]
     },
     "execution_count": 10,
     "metadata": {},
     "output_type": "execute_result"
    }
   ],
   "source": [
    "produit.info"
   ]
  },
  {
   "cell_type": "code",
   "execution_count": 11,
   "id": "4f526ebc",
   "metadata": {},
   "outputs": [
    {
     "data": {
      "text/html": [
       "<div>\n",
       "<style scoped>\n",
       "    .dataframe tbody tr th:only-of-type {\n",
       "        vertical-align: middle;\n",
       "    }\n",
       "\n",
       "    .dataframe tbody tr th {\n",
       "        vertical-align: top;\n",
       "    }\n",
       "\n",
       "    .dataframe thead th {\n",
       "        text-align: right;\n",
       "    }\n",
       "</style>\n",
       "<table border=\"1\" class=\"dataframe\">\n",
       "  <thead>\n",
       "    <tr style=\"text-align: right;\">\n",
       "      <th></th>\n",
       "      <th>id_prod</th>\n",
       "      <th>price</th>\n",
       "      <th>categ</th>\n",
       "    </tr>\n",
       "  </thead>\n",
       "  <tbody>\n",
       "    <tr>\n",
       "      <th>count</th>\n",
       "      <td>3287</td>\n",
       "      <td>3287.000000</td>\n",
       "      <td>3287.000000</td>\n",
       "    </tr>\n",
       "    <tr>\n",
       "      <th>unique</th>\n",
       "      <td>3287</td>\n",
       "      <td>NaN</td>\n",
       "      <td>NaN</td>\n",
       "    </tr>\n",
       "    <tr>\n",
       "      <th>top</th>\n",
       "      <td>0_1421</td>\n",
       "      <td>NaN</td>\n",
       "      <td>NaN</td>\n",
       "    </tr>\n",
       "    <tr>\n",
       "      <th>freq</th>\n",
       "      <td>1</td>\n",
       "      <td>NaN</td>\n",
       "      <td>NaN</td>\n",
       "    </tr>\n",
       "    <tr>\n",
       "      <th>mean</th>\n",
       "      <td>NaN</td>\n",
       "      <td>21.856641</td>\n",
       "      <td>0.370246</td>\n",
       "    </tr>\n",
       "    <tr>\n",
       "      <th>std</th>\n",
       "      <td>NaN</td>\n",
       "      <td>29.847908</td>\n",
       "      <td>0.615387</td>\n",
       "    </tr>\n",
       "    <tr>\n",
       "      <th>min</th>\n",
       "      <td>NaN</td>\n",
       "      <td>-1.000000</td>\n",
       "      <td>0.000000</td>\n",
       "    </tr>\n",
       "    <tr>\n",
       "      <th>25%</th>\n",
       "      <td>NaN</td>\n",
       "      <td>6.990000</td>\n",
       "      <td>0.000000</td>\n",
       "    </tr>\n",
       "    <tr>\n",
       "      <th>50%</th>\n",
       "      <td>NaN</td>\n",
       "      <td>13.060000</td>\n",
       "      <td>0.000000</td>\n",
       "    </tr>\n",
       "    <tr>\n",
       "      <th>75%</th>\n",
       "      <td>NaN</td>\n",
       "      <td>22.990000</td>\n",
       "      <td>1.000000</td>\n",
       "    </tr>\n",
       "    <tr>\n",
       "      <th>max</th>\n",
       "      <td>NaN</td>\n",
       "      <td>300.000000</td>\n",
       "      <td>2.000000</td>\n",
       "    </tr>\n",
       "  </tbody>\n",
       "</table>\n",
       "</div>"
      ],
      "text/plain": [
       "       id_prod        price        categ\n",
       "count     3287  3287.000000  3287.000000\n",
       "unique    3287          NaN          NaN\n",
       "top     0_1421          NaN          NaN\n",
       "freq         1          NaN          NaN\n",
       "mean       NaN    21.856641     0.370246\n",
       "std        NaN    29.847908     0.615387\n",
       "min        NaN    -1.000000     0.000000\n",
       "25%        NaN     6.990000     0.000000\n",
       "50%        NaN    13.060000     0.000000\n",
       "75%        NaN    22.990000     1.000000\n",
       "max        NaN   300.000000     2.000000"
      ]
     },
     "execution_count": 11,
     "metadata": {},
     "output_type": "execute_result"
    }
   ],
   "source": [
    "produit.describe(include='all')"
   ]
  },
  {
   "cell_type": "code",
   "execution_count": 12,
   "id": "1a117c35",
   "metadata": {},
   "outputs": [
    {
     "name": "stdout",
     "output_type": "stream",
     "text": [
      "La colonne 'id_prod' est une clé primaire valide\n",
      "Il n'y a pas de doublons dans la colonne 'id_prod'.\n"
     ]
    }
   ],
   "source": [
    "verifClePrimaireEtDoublons(produit, \"id_prod\")"
   ]
  },
  {
   "cell_type": "code",
   "execution_count": 13,
   "id": "d7c05865",
   "metadata": {},
   "outputs": [],
   "source": [
    "#profile = ProfileReport(produit, minimal=True)\n",
    "#profile.to_file(\"produit_v1.html\")"
   ]
  },
  {
   "cell_type": "markdown",
   "id": "97e90b16",
   "metadata": {},
   "source": [
    "###  <center><span style=\"color:#2db4af\"><u>3 - Visualisation du dataframe \"transaction\" </u></span></center>"
   ]
  },
  {
   "cell_type": "code",
   "execution_count": 14,
   "id": "462e1f13",
   "metadata": {},
   "outputs": [
    {
     "data": {
      "text/html": [
       "<div>\n",
       "<style scoped>\n",
       "    .dataframe tbody tr th:only-of-type {\n",
       "        vertical-align: middle;\n",
       "    }\n",
       "\n",
       "    .dataframe tbody tr th {\n",
       "        vertical-align: top;\n",
       "    }\n",
       "\n",
       "    .dataframe thead th {\n",
       "        text-align: right;\n",
       "    }\n",
       "</style>\n",
       "<table border=\"1\" class=\"dataframe\">\n",
       "  <thead>\n",
       "    <tr style=\"text-align: right;\">\n",
       "      <th></th>\n",
       "      <th>id_prod</th>\n",
       "      <th>date</th>\n",
       "      <th>session_id</th>\n",
       "      <th>client_id</th>\n",
       "    </tr>\n",
       "  </thead>\n",
       "  <tbody>\n",
       "    <tr>\n",
       "      <th>0</th>\n",
       "      <td>0_1518</td>\n",
       "      <td>2022-05-20 13:21:29.043970</td>\n",
       "      <td>s_211425</td>\n",
       "      <td>c_103</td>\n",
       "    </tr>\n",
       "    <tr>\n",
       "      <th>1</th>\n",
       "      <td>1_251</td>\n",
       "      <td>2022-02-02 07:55:19.149409</td>\n",
       "      <td>s_158752</td>\n",
       "      <td>c_8534</td>\n",
       "    </tr>\n",
       "    <tr>\n",
       "      <th>2</th>\n",
       "      <td>0_1277</td>\n",
       "      <td>2022-06-18 15:44:33.155329</td>\n",
       "      <td>s_225667</td>\n",
       "      <td>c_6714</td>\n",
       "    </tr>\n",
       "    <tr>\n",
       "      <th>3</th>\n",
       "      <td>2_209</td>\n",
       "      <td>2021-06-24 04:19:29.835891</td>\n",
       "      <td>s_52962</td>\n",
       "      <td>c_6941</td>\n",
       "    </tr>\n",
       "    <tr>\n",
       "      <th>4</th>\n",
       "      <td>0_1509</td>\n",
       "      <td>2023-01-11 08:22:08.194479</td>\n",
       "      <td>s_325227</td>\n",
       "      <td>c_4232</td>\n",
       "    </tr>\n",
       "    <tr>\n",
       "      <th>...</th>\n",
       "      <td>...</td>\n",
       "      <td>...</td>\n",
       "      <td>...</td>\n",
       "      <td>...</td>\n",
       "    </tr>\n",
       "    <tr>\n",
       "      <th>679527</th>\n",
       "      <td>0_1551</td>\n",
       "      <td>2022-01-15 13:05:06.246925</td>\n",
       "      <td>s_150195</td>\n",
       "      <td>c_8489</td>\n",
       "    </tr>\n",
       "    <tr>\n",
       "      <th>679528</th>\n",
       "      <td>1_639</td>\n",
       "      <td>2022-03-19 16:03:23.429229</td>\n",
       "      <td>s_181434</td>\n",
       "      <td>c_4370</td>\n",
       "    </tr>\n",
       "    <tr>\n",
       "      <th>679529</th>\n",
       "      <td>0_1425</td>\n",
       "      <td>2022-12-20 04:33:37.584749</td>\n",
       "      <td>s_314704</td>\n",
       "      <td>c_304</td>\n",
       "    </tr>\n",
       "    <tr>\n",
       "      <th>679530</th>\n",
       "      <td>0_1994</td>\n",
       "      <td>2021-07-16 20:36:35.350579</td>\n",
       "      <td>s_63204</td>\n",
       "      <td>c_2227</td>\n",
       "    </tr>\n",
       "    <tr>\n",
       "      <th>679531</th>\n",
       "      <td>1_523</td>\n",
       "      <td>2022-09-28 01:12:01.973763</td>\n",
       "      <td>s_274568</td>\n",
       "      <td>c_3873</td>\n",
       "    </tr>\n",
       "  </tbody>\n",
       "</table>\n",
       "<p>679532 rows × 4 columns</p>\n",
       "</div>"
      ],
      "text/plain": [
       "       id_prod                        date session_id client_id\n",
       "0       0_1518  2022-05-20 13:21:29.043970   s_211425     c_103\n",
       "1        1_251  2022-02-02 07:55:19.149409   s_158752    c_8534\n",
       "2       0_1277  2022-06-18 15:44:33.155329   s_225667    c_6714\n",
       "3        2_209  2021-06-24 04:19:29.835891    s_52962    c_6941\n",
       "4       0_1509  2023-01-11 08:22:08.194479   s_325227    c_4232\n",
       "...        ...                         ...        ...       ...\n",
       "679527  0_1551  2022-01-15 13:05:06.246925   s_150195    c_8489\n",
       "679528   1_639  2022-03-19 16:03:23.429229   s_181434    c_4370\n",
       "679529  0_1425  2022-12-20 04:33:37.584749   s_314704     c_304\n",
       "679530  0_1994  2021-07-16 20:36:35.350579    s_63204    c_2227\n",
       "679531   1_523  2022-09-28 01:12:01.973763   s_274568    c_3873\n",
       "\n",
       "[679532 rows x 4 columns]"
      ]
     },
     "execution_count": 14,
     "metadata": {},
     "output_type": "execute_result"
    }
   ],
   "source": [
    "transaction"
   ]
  },
  {
   "cell_type": "code",
   "execution_count": 15,
   "id": "d44de071",
   "metadata": {},
   "outputs": [
    {
     "data": {
      "text/plain": [
       "<bound method DataFrame.info of        id_prod                        date session_id client_id\n",
       "0       0_1518  2022-05-20 13:21:29.043970   s_211425     c_103\n",
       "1        1_251  2022-02-02 07:55:19.149409   s_158752    c_8534\n",
       "2       0_1277  2022-06-18 15:44:33.155329   s_225667    c_6714\n",
       "3        2_209  2021-06-24 04:19:29.835891    s_52962    c_6941\n",
       "4       0_1509  2023-01-11 08:22:08.194479   s_325227    c_4232\n",
       "...        ...                         ...        ...       ...\n",
       "679527  0_1551  2022-01-15 13:05:06.246925   s_150195    c_8489\n",
       "679528   1_639  2022-03-19 16:03:23.429229   s_181434    c_4370\n",
       "679529  0_1425  2022-12-20 04:33:37.584749   s_314704     c_304\n",
       "679530  0_1994  2021-07-16 20:36:35.350579    s_63204    c_2227\n",
       "679531   1_523  2022-09-28 01:12:01.973763   s_274568    c_3873\n",
       "\n",
       "[679532 rows x 4 columns]>"
      ]
     },
     "execution_count": 15,
     "metadata": {},
     "output_type": "execute_result"
    }
   ],
   "source": [
    "transaction.info"
   ]
  },
  {
   "cell_type": "code",
   "execution_count": 16,
   "id": "8cc25437",
   "metadata": {},
   "outputs": [
    {
     "data": {
      "text/html": [
       "<div>\n",
       "<style scoped>\n",
       "    .dataframe tbody tr th:only-of-type {\n",
       "        vertical-align: middle;\n",
       "    }\n",
       "\n",
       "    .dataframe tbody tr th {\n",
       "        vertical-align: top;\n",
       "    }\n",
       "\n",
       "    .dataframe thead th {\n",
       "        text-align: right;\n",
       "    }\n",
       "</style>\n",
       "<table border=\"1\" class=\"dataframe\">\n",
       "  <thead>\n",
       "    <tr style=\"text-align: right;\">\n",
       "      <th></th>\n",
       "      <th>id_prod</th>\n",
       "      <th>date</th>\n",
       "      <th>session_id</th>\n",
       "      <th>client_id</th>\n",
       "    </tr>\n",
       "  </thead>\n",
       "  <tbody>\n",
       "    <tr>\n",
       "      <th>count</th>\n",
       "      <td>679532</td>\n",
       "      <td>679532</td>\n",
       "      <td>679532</td>\n",
       "      <td>679532</td>\n",
       "    </tr>\n",
       "    <tr>\n",
       "      <th>unique</th>\n",
       "      <td>3267</td>\n",
       "      <td>679371</td>\n",
       "      <td>342316</td>\n",
       "      <td>8602</td>\n",
       "    </tr>\n",
       "    <tr>\n",
       "      <th>top</th>\n",
       "      <td>1_369</td>\n",
       "      <td>test_2021-03-01 02:30:02.237413</td>\n",
       "      <td>s_0</td>\n",
       "      <td>c_1609</td>\n",
       "    </tr>\n",
       "    <tr>\n",
       "      <th>freq</th>\n",
       "      <td>2252</td>\n",
       "      <td>13</td>\n",
       "      <td>200</td>\n",
       "      <td>25488</td>\n",
       "    </tr>\n",
       "  </tbody>\n",
       "</table>\n",
       "</div>"
      ],
      "text/plain": [
       "       id_prod                             date session_id client_id\n",
       "count   679532                           679532     679532    679532\n",
       "unique    3267                           679371     342316      8602\n",
       "top      1_369  test_2021-03-01 02:30:02.237413        s_0    c_1609\n",
       "freq      2252                               13        200     25488"
      ]
     },
     "execution_count": 16,
     "metadata": {},
     "output_type": "execute_result"
    }
   ],
   "source": [
    "transaction.describe(include='all')"
   ]
  },
  {
   "cell_type": "code",
   "execution_count": 17,
   "id": "7935d58c",
   "metadata": {
    "scrolled": false
   },
   "outputs": [
    {
     "name": "stdout",
     "output_type": "stream",
     "text": [
      "La colonne 'id_prod' n'est pas une clé primaire valide\n",
      "Il y a 679514 doublons dans la colonne 'id_prod'.\n"
     ]
    },
    {
     "data": {
      "text/html": [
       "<div>\n",
       "<style scoped>\n",
       "    .dataframe tbody tr th:only-of-type {\n",
       "        vertical-align: middle;\n",
       "    }\n",
       "\n",
       "    .dataframe tbody tr th {\n",
       "        vertical-align: top;\n",
       "    }\n",
       "\n",
       "    .dataframe thead th {\n",
       "        text-align: right;\n",
       "    }\n",
       "</style>\n",
       "<table border=\"1\" class=\"dataframe\">\n",
       "  <thead>\n",
       "    <tr style=\"text-align: right;\">\n",
       "      <th></th>\n",
       "      <th>id_prod</th>\n",
       "      <th>date</th>\n",
       "      <th>session_id</th>\n",
       "      <th>client_id</th>\n",
       "    </tr>\n",
       "  </thead>\n",
       "  <tbody>\n",
       "    <tr>\n",
       "      <th>0</th>\n",
       "      <td>0_1518</td>\n",
       "      <td>2022-05-20 13:21:29.043970</td>\n",
       "      <td>s_211425</td>\n",
       "      <td>c_103</td>\n",
       "    </tr>\n",
       "    <tr>\n",
       "      <th>1</th>\n",
       "      <td>1_251</td>\n",
       "      <td>2022-02-02 07:55:19.149409</td>\n",
       "      <td>s_158752</td>\n",
       "      <td>c_8534</td>\n",
       "    </tr>\n",
       "    <tr>\n",
       "      <th>2</th>\n",
       "      <td>0_1277</td>\n",
       "      <td>2022-06-18 15:44:33.155329</td>\n",
       "      <td>s_225667</td>\n",
       "      <td>c_6714</td>\n",
       "    </tr>\n",
       "    <tr>\n",
       "      <th>3</th>\n",
       "      <td>2_209</td>\n",
       "      <td>2021-06-24 04:19:29.835891</td>\n",
       "      <td>s_52962</td>\n",
       "      <td>c_6941</td>\n",
       "    </tr>\n",
       "    <tr>\n",
       "      <th>4</th>\n",
       "      <td>0_1509</td>\n",
       "      <td>2023-01-11 08:22:08.194479</td>\n",
       "      <td>s_325227</td>\n",
       "      <td>c_4232</td>\n",
       "    </tr>\n",
       "    <tr>\n",
       "      <th>...</th>\n",
       "      <td>...</td>\n",
       "      <td>...</td>\n",
       "      <td>...</td>\n",
       "      <td>...</td>\n",
       "    </tr>\n",
       "    <tr>\n",
       "      <th>679527</th>\n",
       "      <td>0_1551</td>\n",
       "      <td>2022-01-15 13:05:06.246925</td>\n",
       "      <td>s_150195</td>\n",
       "      <td>c_8489</td>\n",
       "    </tr>\n",
       "    <tr>\n",
       "      <th>679528</th>\n",
       "      <td>1_639</td>\n",
       "      <td>2022-03-19 16:03:23.429229</td>\n",
       "      <td>s_181434</td>\n",
       "      <td>c_4370</td>\n",
       "    </tr>\n",
       "    <tr>\n",
       "      <th>679529</th>\n",
       "      <td>0_1425</td>\n",
       "      <td>2022-12-20 04:33:37.584749</td>\n",
       "      <td>s_314704</td>\n",
       "      <td>c_304</td>\n",
       "    </tr>\n",
       "    <tr>\n",
       "      <th>679530</th>\n",
       "      <td>0_1994</td>\n",
       "      <td>2021-07-16 20:36:35.350579</td>\n",
       "      <td>s_63204</td>\n",
       "      <td>c_2227</td>\n",
       "    </tr>\n",
       "    <tr>\n",
       "      <th>679531</th>\n",
       "      <td>1_523</td>\n",
       "      <td>2022-09-28 01:12:01.973763</td>\n",
       "      <td>s_274568</td>\n",
       "      <td>c_3873</td>\n",
       "    </tr>\n",
       "  </tbody>\n",
       "</table>\n",
       "<p>679514 rows × 4 columns</p>\n",
       "</div>"
      ],
      "text/plain": [
       "       id_prod                        date session_id client_id\n",
       "0       0_1518  2022-05-20 13:21:29.043970   s_211425     c_103\n",
       "1        1_251  2022-02-02 07:55:19.149409   s_158752    c_8534\n",
       "2       0_1277  2022-06-18 15:44:33.155329   s_225667    c_6714\n",
       "3        2_209  2021-06-24 04:19:29.835891    s_52962    c_6941\n",
       "4       0_1509  2023-01-11 08:22:08.194479   s_325227    c_4232\n",
       "...        ...                         ...        ...       ...\n",
       "679527  0_1551  2022-01-15 13:05:06.246925   s_150195    c_8489\n",
       "679528   1_639  2022-03-19 16:03:23.429229   s_181434    c_4370\n",
       "679529  0_1425  2022-12-20 04:33:37.584749   s_314704     c_304\n",
       "679530  0_1994  2021-07-16 20:36:35.350579    s_63204    c_2227\n",
       "679531   1_523  2022-09-28 01:12:01.973763   s_274568    c_3873\n",
       "\n",
       "[679514 rows x 4 columns]"
      ]
     },
     "execution_count": 17,
     "metadata": {},
     "output_type": "execute_result"
    }
   ],
   "source": [
    "verifClePrimaireEtDoublons(transaction, \"id_prod\")"
   ]
  },
  {
   "cell_type": "code",
   "execution_count": 18,
   "id": "4c1451f3",
   "metadata": {},
   "outputs": [],
   "source": [
    "#profile = ProfileReport(transaction, minimal=True)\n",
    "#profile.to_file(\"transaction_v1.html\")"
   ]
  },
  {
   "cell_type": "markdown",
   "id": "95e0c60e",
   "metadata": {},
   "source": [
    "## <center><span style=\"color:#0131b4\"><u>IV - Nettoyage des bases de données</u></span></center>"
   ]
  },
  {
   "cell_type": "markdown",
   "id": "1916e896",
   "metadata": {},
   "source": [
    "###  <center><span style=\"color:#2db4af\"><u>1 - Recherche d'anomalies  </u></span></center>"
   ]
  },
  {
   "cell_type": "code",
   "execution_count": 19,
   "id": "edfce15d",
   "metadata": {},
   "outputs": [
    {
     "data": {
      "text/html": [
       "<div>\n",
       "<style scoped>\n",
       "    .dataframe tbody tr th:only-of-type {\n",
       "        vertical-align: middle;\n",
       "    }\n",
       "\n",
       "    .dataframe tbody tr th {\n",
       "        vertical-align: top;\n",
       "    }\n",
       "\n",
       "    .dataframe thead th {\n",
       "        text-align: right;\n",
       "    }\n",
       "</style>\n",
       "<table border=\"1\" class=\"dataframe\">\n",
       "  <thead>\n",
       "    <tr style=\"text-align: right;\">\n",
       "      <th></th>\n",
       "      <th>id_prod</th>\n",
       "      <th>price</th>\n",
       "      <th>categ</th>\n",
       "    </tr>\n",
       "  </thead>\n",
       "  <tbody>\n",
       "    <tr>\n",
       "      <th>731</th>\n",
       "      <td>T_0</td>\n",
       "      <td>-1.0</td>\n",
       "      <td>0</td>\n",
       "    </tr>\n",
       "  </tbody>\n",
       "</table>\n",
       "</div>"
      ],
      "text/plain": [
       "    id_prod  price  categ\n",
       "731     T_0   -1.0      0"
      ]
     },
     "execution_count": 19,
     "metadata": {},
     "output_type": "execute_result"
    }
   ],
   "source": [
    "#Découverte d'une valeure négative dans le df \"produit\"\n",
    "produit.loc[produit.price<0]"
   ]
  },
  {
   "cell_type": "code",
   "execution_count": 20,
   "id": "3e784f65",
   "metadata": {},
   "outputs": [
    {
     "data": {
      "text/html": [
       "<div>\n",
       "<style scoped>\n",
       "    .dataframe tbody tr th:only-of-type {\n",
       "        vertical-align: middle;\n",
       "    }\n",
       "\n",
       "    .dataframe tbody tr th {\n",
       "        vertical-align: top;\n",
       "    }\n",
       "\n",
       "    .dataframe thead th {\n",
       "        text-align: right;\n",
       "    }\n",
       "</style>\n",
       "<table border=\"1\" class=\"dataframe\">\n",
       "  <thead>\n",
       "    <tr style=\"text-align: right;\">\n",
       "      <th></th>\n",
       "      <th>id_prod</th>\n",
       "      <th>date</th>\n",
       "      <th>session_id</th>\n",
       "      <th>client_id</th>\n",
       "    </tr>\n",
       "  </thead>\n",
       "  <tbody>\n",
       "    <tr>\n",
       "      <th>3019</th>\n",
       "      <td>T_0</td>\n",
       "      <td>test_2021-03-01 02:30:02.237419</td>\n",
       "      <td>s_0</td>\n",
       "      <td>ct_0</td>\n",
       "    </tr>\n",
       "    <tr>\n",
       "      <th>5138</th>\n",
       "      <td>T_0</td>\n",
       "      <td>test_2021-03-01 02:30:02.237425</td>\n",
       "      <td>s_0</td>\n",
       "      <td>ct_0</td>\n",
       "    </tr>\n",
       "    <tr>\n",
       "      <th>9668</th>\n",
       "      <td>T_0</td>\n",
       "      <td>test_2021-03-01 02:30:02.237437</td>\n",
       "      <td>s_0</td>\n",
       "      <td>ct_1</td>\n",
       "    </tr>\n",
       "    <tr>\n",
       "      <th>10728</th>\n",
       "      <td>T_0</td>\n",
       "      <td>test_2021-03-01 02:30:02.237436</td>\n",
       "      <td>s_0</td>\n",
       "      <td>ct_0</td>\n",
       "    </tr>\n",
       "    <tr>\n",
       "      <th>15292</th>\n",
       "      <td>T_0</td>\n",
       "      <td>test_2021-03-01 02:30:02.237430</td>\n",
       "      <td>s_0</td>\n",
       "      <td>ct_0</td>\n",
       "    </tr>\n",
       "    <tr>\n",
       "      <th>...</th>\n",
       "      <td>...</td>\n",
       "      <td>...</td>\n",
       "      <td>...</td>\n",
       "      <td>...</td>\n",
       "    </tr>\n",
       "    <tr>\n",
       "      <th>657830</th>\n",
       "      <td>T_0</td>\n",
       "      <td>test_2021-03-01 02:30:02.237417</td>\n",
       "      <td>s_0</td>\n",
       "      <td>ct_0</td>\n",
       "    </tr>\n",
       "    <tr>\n",
       "      <th>662081</th>\n",
       "      <td>T_0</td>\n",
       "      <td>test_2021-03-01 02:30:02.237427</td>\n",
       "      <td>s_0</td>\n",
       "      <td>ct_1</td>\n",
       "    </tr>\n",
       "    <tr>\n",
       "      <th>670680</th>\n",
       "      <td>T_0</td>\n",
       "      <td>test_2021-03-01 02:30:02.237449</td>\n",
       "      <td>s_0</td>\n",
       "      <td>ct_1</td>\n",
       "    </tr>\n",
       "    <tr>\n",
       "      <th>671647</th>\n",
       "      <td>T_0</td>\n",
       "      <td>test_2021-03-01 02:30:02.237424</td>\n",
       "      <td>s_0</td>\n",
       "      <td>ct_1</td>\n",
       "    </tr>\n",
       "    <tr>\n",
       "      <th>679180</th>\n",
       "      <td>T_0</td>\n",
       "      <td>test_2021-03-01 02:30:02.237425</td>\n",
       "      <td>s_0</td>\n",
       "      <td>ct_1</td>\n",
       "    </tr>\n",
       "  </tbody>\n",
       "</table>\n",
       "<p>200 rows × 4 columns</p>\n",
       "</div>"
      ],
      "text/plain": [
       "       id_prod                             date session_id client_id\n",
       "3019       T_0  test_2021-03-01 02:30:02.237419        s_0      ct_0\n",
       "5138       T_0  test_2021-03-01 02:30:02.237425        s_0      ct_0\n",
       "9668       T_0  test_2021-03-01 02:30:02.237437        s_0      ct_1\n",
       "10728      T_0  test_2021-03-01 02:30:02.237436        s_0      ct_0\n",
       "15292      T_0  test_2021-03-01 02:30:02.237430        s_0      ct_0\n",
       "...        ...                              ...        ...       ...\n",
       "657830     T_0  test_2021-03-01 02:30:02.237417        s_0      ct_0\n",
       "662081     T_0  test_2021-03-01 02:30:02.237427        s_0      ct_1\n",
       "670680     T_0  test_2021-03-01 02:30:02.237449        s_0      ct_1\n",
       "671647     T_0  test_2021-03-01 02:30:02.237424        s_0      ct_1\n",
       "679180     T_0  test_2021-03-01 02:30:02.237425        s_0      ct_1\n",
       "\n",
       "[200 rows x 4 columns]"
      ]
     },
     "execution_count": 20,
     "metadata": {},
     "output_type": "execute_result"
    }
   ],
   "source": [
    "#Affichage des id_prod \"T_O\" dans le df transaction\n",
    "transaction.loc[transaction.id_prod==\"T_0\"]"
   ]
  },
  {
   "cell_type": "code",
   "execution_count": 21,
   "id": "7559059b",
   "metadata": {},
   "outputs": [
    {
     "data": {
      "text/html": [
       "<div>\n",
       "<style scoped>\n",
       "    .dataframe tbody tr th:only-of-type {\n",
       "        vertical-align: middle;\n",
       "    }\n",
       "\n",
       "    .dataframe tbody tr th {\n",
       "        vertical-align: top;\n",
       "    }\n",
       "\n",
       "    .dataframe thead th {\n",
       "        text-align: right;\n",
       "    }\n",
       "</style>\n",
       "<table border=\"1\" class=\"dataframe\">\n",
       "  <thead>\n",
       "    <tr style=\"text-align: right;\">\n",
       "      <th></th>\n",
       "      <th>client_id</th>\n",
       "      <th>sex</th>\n",
       "      <th>birth</th>\n",
       "    </tr>\n",
       "  </thead>\n",
       "  <tbody>\n",
       "    <tr>\n",
       "      <th>2735</th>\n",
       "      <td>ct_0</td>\n",
       "      <td>f</td>\n",
       "      <td>2001</td>\n",
       "    </tr>\n",
       "  </tbody>\n",
       "</table>\n",
       "</div>"
      ],
      "text/plain": [
       "     client_id sex  birth\n",
       "2735      ct_0   f   2001"
      ]
     },
     "execution_count": 21,
     "metadata": {},
     "output_type": "execute_result"
    }
   ],
   "source": [
    "#Recherche d'information sur l'id client \"ct_0\"\n",
    "conso.loc[conso.client_id==\"ct_0\"]"
   ]
  },
  {
   "cell_type": "code",
   "execution_count": 22,
   "id": "a2b496b3",
   "metadata": {},
   "outputs": [
    {
     "data": {
      "text/html": [
       "<div>\n",
       "<style scoped>\n",
       "    .dataframe tbody tr th:only-of-type {\n",
       "        vertical-align: middle;\n",
       "    }\n",
       "\n",
       "    .dataframe tbody tr th {\n",
       "        vertical-align: top;\n",
       "    }\n",
       "\n",
       "    .dataframe thead th {\n",
       "        text-align: right;\n",
       "    }\n",
       "</style>\n",
       "<table border=\"1\" class=\"dataframe\">\n",
       "  <thead>\n",
       "    <tr style=\"text-align: right;\">\n",
       "      <th></th>\n",
       "      <th>client_id</th>\n",
       "      <th>sex</th>\n",
       "      <th>birth</th>\n",
       "    </tr>\n",
       "  </thead>\n",
       "  <tbody>\n",
       "    <tr>\n",
       "      <th>8494</th>\n",
       "      <td>ct_1</td>\n",
       "      <td>m</td>\n",
       "      <td>2001</td>\n",
       "    </tr>\n",
       "  </tbody>\n",
       "</table>\n",
       "</div>"
      ],
      "text/plain": [
       "     client_id sex  birth\n",
       "8494      ct_1   m   2001"
      ]
     },
     "execution_count": 22,
     "metadata": {},
     "output_type": "execute_result"
    }
   ],
   "source": [
    "#Recherche d'information sur l'id client \"ct_1\"\n",
    "conso.loc[conso.client_id==\"ct_1\"]"
   ]
  },
  {
   "cell_type": "code",
   "execution_count": 23,
   "id": "f2dd2201",
   "metadata": {},
   "outputs": [],
   "source": [
    "#Suppression du client test identifié avec l'id \"T_0\"\n",
    "produit.drop(produit.loc[produit[\"id_prod\"]==\"T_0\"].index, inplace = True)"
   ]
  },
  {
   "cell_type": "code",
   "execution_count": 24,
   "id": "7c90d326",
   "metadata": {},
   "outputs": [],
   "source": [
    "#Suppression de l'id \"T_0\" appartenant au client test\n",
    "transaction.drop(transaction.loc[transaction[\"id_prod\"]==\"T_0\"].index, inplace = True)"
   ]
  },
  {
   "cell_type": "code",
   "execution_count": 25,
   "id": "df8374a8",
   "metadata": {},
   "outputs": [],
   "source": [
    "#Suppression des id \"ct_0\" et \"ct_1\" appartenant au client test\n",
    "conso.drop(conso[(conso[\"client_id\"]==\"ct_0\") | (conso[\"client_id\"]==\"ct_1\")].index, inplace = True)"
   ]
  },
  {
   "cell_type": "markdown",
   "id": "b14c780a",
   "metadata": {},
   "source": [
    "####  <center><span style=\"color:#4c7e80\"><u>1.1 - Vérification  </u></span></center>"
   ]
  },
  {
   "cell_type": "code",
   "execution_count": 26,
   "id": "943f201e",
   "metadata": {},
   "outputs": [
    {
     "data": {
      "text/html": [
       "<div>\n",
       "<style scoped>\n",
       "    .dataframe tbody tr th:only-of-type {\n",
       "        vertical-align: middle;\n",
       "    }\n",
       "\n",
       "    .dataframe tbody tr th {\n",
       "        vertical-align: top;\n",
       "    }\n",
       "\n",
       "    .dataframe thead th {\n",
       "        text-align: right;\n",
       "    }\n",
       "</style>\n",
       "<table border=\"1\" class=\"dataframe\">\n",
       "  <thead>\n",
       "    <tr style=\"text-align: right;\">\n",
       "      <th></th>\n",
       "      <th>id_prod</th>\n",
       "      <th>date</th>\n",
       "      <th>session_id</th>\n",
       "      <th>client_id</th>\n",
       "    </tr>\n",
       "  </thead>\n",
       "  <tbody>\n",
       "  </tbody>\n",
       "</table>\n",
       "</div>"
      ],
      "text/plain": [
       "Empty DataFrame\n",
       "Columns: [id_prod, date, session_id, client_id]\n",
       "Index: []"
      ]
     },
     "execution_count": 26,
     "metadata": {},
     "output_type": "execute_result"
    }
   ],
   "source": [
    "produit.loc[produit.price<0]\n",
    "transaction.loc[transaction.id_prod==\"T_0\"]"
   ]
  },
  {
   "cell_type": "code",
   "execution_count": 27,
   "id": "dc006c92",
   "metadata": {},
   "outputs": [
    {
     "data": {
      "text/html": [
       "<div>\n",
       "<style scoped>\n",
       "    .dataframe tbody tr th:only-of-type {\n",
       "        vertical-align: middle;\n",
       "    }\n",
       "\n",
       "    .dataframe tbody tr th {\n",
       "        vertical-align: top;\n",
       "    }\n",
       "\n",
       "    .dataframe thead th {\n",
       "        text-align: right;\n",
       "    }\n",
       "</style>\n",
       "<table border=\"1\" class=\"dataframe\">\n",
       "  <thead>\n",
       "    <tr style=\"text-align: right;\">\n",
       "      <th></th>\n",
       "      <th>client_id</th>\n",
       "      <th>sex</th>\n",
       "      <th>birth</th>\n",
       "    </tr>\n",
       "  </thead>\n",
       "  <tbody>\n",
       "  </tbody>\n",
       "</table>\n",
       "</div>"
      ],
      "text/plain": [
       "Empty DataFrame\n",
       "Columns: [client_id, sex, birth]\n",
       "Index: []"
      ]
     },
     "execution_count": 27,
     "metadata": {},
     "output_type": "execute_result"
    }
   ],
   "source": [
    "conso.loc[conso.client_id==\"ct_0\"]\n",
    "conso.loc[conso.client_id==\"ct_1\"]"
   ]
  },
  {
   "cell_type": "markdown",
   "id": "0fc85e44",
   "metadata": {},
   "source": [
    "###  <center><span style=\"color:#2db4af\"><u>2 - Changement du format de la date  </u></span></center>"
   ]
  },
  {
   "cell_type": "code",
   "execution_count": 28,
   "id": "32db54fd",
   "metadata": {},
   "outputs": [],
   "source": [
    "transaction[\"date\"] = pd.to_datetime(transaction.date).dt.date"
   ]
  },
  {
   "cell_type": "code",
   "execution_count": 29,
   "id": "e710a11e",
   "metadata": {},
   "outputs": [],
   "source": [
    "transaction[\"date\"] = pd.to_datetime(transaction.date, format='%Y-%m-%d', errors = \"coerce\")"
   ]
  },
  {
   "cell_type": "markdown",
   "id": "a84af6be",
   "metadata": {},
   "source": [
    "####  <center><span style=\"color:#4c7e80\"><u>2.1 - Vérification  </u></span></center>"
   ]
  },
  {
   "cell_type": "code",
   "execution_count": 30,
   "id": "1db89fcf",
   "metadata": {},
   "outputs": [
    {
     "data": {
      "text/plain": [
       "id_prod       0\n",
       "date          0\n",
       "session_id    0\n",
       "client_id     0\n",
       "dtype: int64"
      ]
     },
     "execution_count": 30,
     "metadata": {},
     "output_type": "execute_result"
    }
   ],
   "source": [
    "#Vérification des valeurs null crée avec la valeur \"coerce\"\n",
    "transaction.isnull().sum()"
   ]
  },
  {
   "cell_type": "code",
   "execution_count": 31,
   "id": "bacb9991",
   "metadata": {},
   "outputs": [
    {
     "data": {
      "text/html": [
       "<div>\n",
       "<style scoped>\n",
       "    .dataframe tbody tr th:only-of-type {\n",
       "        vertical-align: middle;\n",
       "    }\n",
       "\n",
       "    .dataframe tbody tr th {\n",
       "        vertical-align: top;\n",
       "    }\n",
       "\n",
       "    .dataframe thead th {\n",
       "        text-align: right;\n",
       "    }\n",
       "</style>\n",
       "<table border=\"1\" class=\"dataframe\">\n",
       "  <thead>\n",
       "    <tr style=\"text-align: right;\">\n",
       "      <th></th>\n",
       "      <th>id_prod</th>\n",
       "      <th>date</th>\n",
       "      <th>session_id</th>\n",
       "      <th>client_id</th>\n",
       "    </tr>\n",
       "  </thead>\n",
       "  <tbody>\n",
       "    <tr>\n",
       "      <th>0</th>\n",
       "      <td>0_1518</td>\n",
       "      <td>2022-05-20</td>\n",
       "      <td>s_211425</td>\n",
       "      <td>c_103</td>\n",
       "    </tr>\n",
       "    <tr>\n",
       "      <th>1</th>\n",
       "      <td>1_251</td>\n",
       "      <td>2022-02-02</td>\n",
       "      <td>s_158752</td>\n",
       "      <td>c_8534</td>\n",
       "    </tr>\n",
       "    <tr>\n",
       "      <th>2</th>\n",
       "      <td>0_1277</td>\n",
       "      <td>2022-06-18</td>\n",
       "      <td>s_225667</td>\n",
       "      <td>c_6714</td>\n",
       "    </tr>\n",
       "    <tr>\n",
       "      <th>3</th>\n",
       "      <td>2_209</td>\n",
       "      <td>2021-06-24</td>\n",
       "      <td>s_52962</td>\n",
       "      <td>c_6941</td>\n",
       "    </tr>\n",
       "    <tr>\n",
       "      <th>4</th>\n",
       "      <td>0_1509</td>\n",
       "      <td>2023-01-11</td>\n",
       "      <td>s_325227</td>\n",
       "      <td>c_4232</td>\n",
       "    </tr>\n",
       "    <tr>\n",
       "      <th>...</th>\n",
       "      <td>...</td>\n",
       "      <td>...</td>\n",
       "      <td>...</td>\n",
       "      <td>...</td>\n",
       "    </tr>\n",
       "    <tr>\n",
       "      <th>679527</th>\n",
       "      <td>0_1551</td>\n",
       "      <td>2022-01-15</td>\n",
       "      <td>s_150195</td>\n",
       "      <td>c_8489</td>\n",
       "    </tr>\n",
       "    <tr>\n",
       "      <th>679528</th>\n",
       "      <td>1_639</td>\n",
       "      <td>2022-03-19</td>\n",
       "      <td>s_181434</td>\n",
       "      <td>c_4370</td>\n",
       "    </tr>\n",
       "    <tr>\n",
       "      <th>679529</th>\n",
       "      <td>0_1425</td>\n",
       "      <td>2022-12-20</td>\n",
       "      <td>s_314704</td>\n",
       "      <td>c_304</td>\n",
       "    </tr>\n",
       "    <tr>\n",
       "      <th>679530</th>\n",
       "      <td>0_1994</td>\n",
       "      <td>2021-07-16</td>\n",
       "      <td>s_63204</td>\n",
       "      <td>c_2227</td>\n",
       "    </tr>\n",
       "    <tr>\n",
       "      <th>679531</th>\n",
       "      <td>1_523</td>\n",
       "      <td>2022-09-28</td>\n",
       "      <td>s_274568</td>\n",
       "      <td>c_3873</td>\n",
       "    </tr>\n",
       "  </tbody>\n",
       "</table>\n",
       "<p>679332 rows × 4 columns</p>\n",
       "</div>"
      ],
      "text/plain": [
       "       id_prod       date session_id client_id\n",
       "0       0_1518 2022-05-20   s_211425     c_103\n",
       "1        1_251 2022-02-02   s_158752    c_8534\n",
       "2       0_1277 2022-06-18   s_225667    c_6714\n",
       "3        2_209 2021-06-24    s_52962    c_6941\n",
       "4       0_1509 2023-01-11   s_325227    c_4232\n",
       "...        ...        ...        ...       ...\n",
       "679527  0_1551 2022-01-15   s_150195    c_8489\n",
       "679528   1_639 2022-03-19   s_181434    c_4370\n",
       "679529  0_1425 2022-12-20   s_314704     c_304\n",
       "679530  0_1994 2021-07-16    s_63204    c_2227\n",
       "679531   1_523 2022-09-28   s_274568    c_3873\n",
       "\n",
       "[679332 rows x 4 columns]"
      ]
     },
     "execution_count": 31,
     "metadata": {},
     "output_type": "execute_result"
    }
   ],
   "source": [
    "transaction"
   ]
  },
  {
   "cell_type": "markdown",
   "id": "7809953b",
   "metadata": {},
   "source": [
    "###  <center><span style=\"color:#2db4af\"><u>3 - Jointure et nettoyage  </u></span></center>"
   ]
  },
  {
   "cell_type": "code",
   "execution_count": 32,
   "id": "2b4ebfc5",
   "metadata": {
    "scrolled": false
   },
   "outputs": [
    {
     "data": {
      "text/html": [
       "<div>\n",
       "<style scoped>\n",
       "    .dataframe tbody tr th:only-of-type {\n",
       "        vertical-align: middle;\n",
       "    }\n",
       "\n",
       "    .dataframe tbody tr th {\n",
       "        vertical-align: top;\n",
       "    }\n",
       "\n",
       "    .dataframe thead th {\n",
       "        text-align: right;\n",
       "    }\n",
       "</style>\n",
       "<table border=\"1\" class=\"dataframe\">\n",
       "  <thead>\n",
       "    <tr style=\"text-align: right;\">\n",
       "      <th></th>\n",
       "      <th>id_prod</th>\n",
       "      <th>date</th>\n",
       "      <th>session_id</th>\n",
       "      <th>client_id</th>\n",
       "      <th>sex</th>\n",
       "      <th>birth</th>\n",
       "      <th>price</th>\n",
       "      <th>categ</th>\n",
       "      <th>_merge</th>\n",
       "    </tr>\n",
       "  </thead>\n",
       "  <tbody>\n",
       "    <tr>\n",
       "      <th>0</th>\n",
       "      <td>0_1518</td>\n",
       "      <td>2022-05-20</td>\n",
       "      <td>s_211425</td>\n",
       "      <td>c_103</td>\n",
       "      <td>f</td>\n",
       "      <td>1986</td>\n",
       "      <td>4.18</td>\n",
       "      <td>0.0</td>\n",
       "      <td>both</td>\n",
       "    </tr>\n",
       "    <tr>\n",
       "      <th>1</th>\n",
       "      <td>1_251</td>\n",
       "      <td>2022-02-02</td>\n",
       "      <td>s_158752</td>\n",
       "      <td>c_8534</td>\n",
       "      <td>m</td>\n",
       "      <td>1988</td>\n",
       "      <td>15.99</td>\n",
       "      <td>1.0</td>\n",
       "      <td>both</td>\n",
       "    </tr>\n",
       "    <tr>\n",
       "      <th>2</th>\n",
       "      <td>0_1277</td>\n",
       "      <td>2022-06-18</td>\n",
       "      <td>s_225667</td>\n",
       "      <td>c_6714</td>\n",
       "      <td>f</td>\n",
       "      <td>1968</td>\n",
       "      <td>7.99</td>\n",
       "      <td>0.0</td>\n",
       "      <td>both</td>\n",
       "    </tr>\n",
       "    <tr>\n",
       "      <th>3</th>\n",
       "      <td>2_209</td>\n",
       "      <td>2021-06-24</td>\n",
       "      <td>s_52962</td>\n",
       "      <td>c_6941</td>\n",
       "      <td>m</td>\n",
       "      <td>2000</td>\n",
       "      <td>69.99</td>\n",
       "      <td>2.0</td>\n",
       "      <td>both</td>\n",
       "    </tr>\n",
       "    <tr>\n",
       "      <th>4</th>\n",
       "      <td>0_1509</td>\n",
       "      <td>2023-01-11</td>\n",
       "      <td>s_325227</td>\n",
       "      <td>c_4232</td>\n",
       "      <td>m</td>\n",
       "      <td>1980</td>\n",
       "      <td>4.99</td>\n",
       "      <td>0.0</td>\n",
       "      <td>both</td>\n",
       "    </tr>\n",
       "    <tr>\n",
       "      <th>...</th>\n",
       "      <td>...</td>\n",
       "      <td>...</td>\n",
       "      <td>...</td>\n",
       "      <td>...</td>\n",
       "      <td>...</td>\n",
       "      <td>...</td>\n",
       "      <td>...</td>\n",
       "      <td>...</td>\n",
       "      <td>...</td>\n",
       "    </tr>\n",
       "    <tr>\n",
       "      <th>679327</th>\n",
       "      <td>0_1551</td>\n",
       "      <td>2022-01-15</td>\n",
       "      <td>s_150195</td>\n",
       "      <td>c_8489</td>\n",
       "      <td>f</td>\n",
       "      <td>1951</td>\n",
       "      <td>12.99</td>\n",
       "      <td>0.0</td>\n",
       "      <td>both</td>\n",
       "    </tr>\n",
       "    <tr>\n",
       "      <th>679328</th>\n",
       "      <td>1_639</td>\n",
       "      <td>2022-03-19</td>\n",
       "      <td>s_181434</td>\n",
       "      <td>c_4370</td>\n",
       "      <td>f</td>\n",
       "      <td>1977</td>\n",
       "      <td>10.99</td>\n",
       "      <td>1.0</td>\n",
       "      <td>both</td>\n",
       "    </tr>\n",
       "    <tr>\n",
       "      <th>679329</th>\n",
       "      <td>0_1425</td>\n",
       "      <td>2022-12-20</td>\n",
       "      <td>s_314704</td>\n",
       "      <td>c_304</td>\n",
       "      <td>f</td>\n",
       "      <td>1988</td>\n",
       "      <td>12.99</td>\n",
       "      <td>0.0</td>\n",
       "      <td>both</td>\n",
       "    </tr>\n",
       "    <tr>\n",
       "      <th>679330</th>\n",
       "      <td>0_1994</td>\n",
       "      <td>2021-07-16</td>\n",
       "      <td>s_63204</td>\n",
       "      <td>c_2227</td>\n",
       "      <td>m</td>\n",
       "      <td>1986</td>\n",
       "      <td>4.98</td>\n",
       "      <td>0.0</td>\n",
       "      <td>both</td>\n",
       "    </tr>\n",
       "    <tr>\n",
       "      <th>679331</th>\n",
       "      <td>1_523</td>\n",
       "      <td>2022-09-28</td>\n",
       "      <td>s_274568</td>\n",
       "      <td>c_3873</td>\n",
       "      <td>m</td>\n",
       "      <td>1995</td>\n",
       "      <td>23.99</td>\n",
       "      <td>1.0</td>\n",
       "      <td>both</td>\n",
       "    </tr>\n",
       "  </tbody>\n",
       "</table>\n",
       "<p>679332 rows × 9 columns</p>\n",
       "</div>"
      ],
      "text/plain": [
       "       id_prod       date session_id client_id sex  birth  price  categ _merge\n",
       "0       0_1518 2022-05-20   s_211425     c_103   f   1986   4.18    0.0   both\n",
       "1        1_251 2022-02-02   s_158752    c_8534   m   1988  15.99    1.0   both\n",
       "2       0_1277 2022-06-18   s_225667    c_6714   f   1968   7.99    0.0   both\n",
       "3        2_209 2021-06-24    s_52962    c_6941   m   2000  69.99    2.0   both\n",
       "4       0_1509 2023-01-11   s_325227    c_4232   m   1980   4.99    0.0   both\n",
       "...        ...        ...        ...       ...  ..    ...    ...    ...    ...\n",
       "679327  0_1551 2022-01-15   s_150195    c_8489   f   1951  12.99    0.0   both\n",
       "679328   1_639 2022-03-19   s_181434    c_4370   f   1977  10.99    1.0   both\n",
       "679329  0_1425 2022-12-20   s_314704     c_304   f   1988  12.99    0.0   both\n",
       "679330  0_1994 2021-07-16    s_63204    c_2227   m   1986   4.98    0.0   both\n",
       "679331   1_523 2022-09-28   s_274568    c_3873   m   1995  23.99    1.0   both\n",
       "\n",
       "[679332 rows x 9 columns]"
      ]
     },
     "execution_count": 32,
     "metadata": {},
     "output_type": "execute_result"
    }
   ],
   "source": [
    "#jointure entre les dataframes\n",
    "recap = transaction.merge(conso, how='left', on='client_id').merge(produit, how='left', on='id_prod', indicator = True)\n",
    "recap"
   ]
  },
  {
   "cell_type": "code",
   "execution_count": 33,
   "id": "408b142d",
   "metadata": {},
   "outputs": [],
   "source": [
    "#profile = ProfileReport(recap, title=\"recap_v1\")\n",
    "#profile.to_widgets()"
   ]
  },
  {
   "cell_type": "markdown",
   "id": "5e69bae2",
   "metadata": {},
   "source": [
    "###  <center><span style=\"color:#2db4af\"><u>3.1 - Gestion de l'id 0_2245  </u></span></center>"
   ]
  },
  {
   "cell_type": "code",
   "execution_count": 34,
   "id": "eec595e8",
   "metadata": {},
   "outputs": [],
   "source": [
    "#Suppression de la colonne \"_merge\" \n",
    "del recap[\"_merge\"]"
   ]
  },
  {
   "cell_type": "code",
   "execution_count": 35,
   "id": "1c786be1",
   "metadata": {
    "scrolled": true
   },
   "outputs": [
    {
     "data": {
      "text/plain": [
       "id_prod         0\n",
       "date            0\n",
       "session_id      0\n",
       "client_id       0\n",
       "sex             0\n",
       "birth           0\n",
       "price         221\n",
       "categ         221\n",
       "dtype: int64"
      ]
     },
     "execution_count": 35,
     "metadata": {},
     "output_type": "execute_result"
    }
   ],
   "source": [
    "#L'id 0_2245 ne fournit aucune informations dans les colonnes \"price & categ\"\n",
    "recap.isnull().sum()"
   ]
  },
  {
   "cell_type": "markdown",
   "id": "6de96099",
   "metadata": {},
   "source": [
    "####  <center><span style=\"color:#2db4af\"><u>3.2 - Correction des valeurs null  </u></span></center>"
   ]
  },
  {
   "cell_type": "code",
   "execution_count": 36,
   "id": "4c658873",
   "metadata": {},
   "outputs": [],
   "source": [
    "#Le premier chiffre de l'id 0_2245 correspond à sa categorie (categ)\n",
    "recap[\"categ\"].fillna(value=0, inplace = True)"
   ]
  },
  {
   "cell_type": "code",
   "execution_count": 37,
   "id": "54382760",
   "metadata": {},
   "outputs": [
    {
     "name": "stdout",
     "output_type": "stream",
     "text": [
      "9.99\n"
     ]
    }
   ],
   "source": [
    "#ajout d'une médiane pour les valeurs null dans la colonne \"price\"\n",
    "median = recap[recap[\"categ\"] == 0][\"price\"].median()\n",
    "recap[\"price\"].fillna(value=median, inplace=True)\n",
    "print(median)"
   ]
  },
  {
   "cell_type": "code",
   "execution_count": 38,
   "id": "733fcd58",
   "metadata": {},
   "outputs": [
    {
     "name": "stdout",
     "output_type": "stream",
     "text": [
      "False\n"
     ]
    }
   ],
   "source": [
    "#Vérification si la valeur 0_2245 est toujours présente\n",
    "print(recap[\"categ\"].isin([\"0_2245\"]).any())"
   ]
  },
  {
   "cell_type": "code",
   "execution_count": 39,
   "id": "851b5718",
   "metadata": {
    "scrolled": true
   },
   "outputs": [
    {
     "data": {
      "text/plain": [
       "id_prod       0\n",
       "date          0\n",
       "session_id    0\n",
       "client_id     0\n",
       "sex           0\n",
       "birth         0\n",
       "price         0\n",
       "categ         0\n",
       "dtype: int64"
      ]
     },
     "execution_count": 39,
     "metadata": {},
     "output_type": "execute_result"
    }
   ],
   "source": [
    "recap.isnull().sum()"
   ]
  },
  {
   "cell_type": "code",
   "execution_count": 40,
   "id": "eb5f0be4",
   "metadata": {},
   "outputs": [],
   "source": [
    "#Changement de la valeur \"categ\"\n",
    "recap[\"categ\"] = recap[\"categ\"].astype(int)"
   ]
  },
  {
   "cell_type": "code",
   "execution_count": 41,
   "id": "bc514d11",
   "metadata": {
    "scrolled": true
   },
   "outputs": [
    {
     "data": {
      "text/html": [
       "<div>\n",
       "<style scoped>\n",
       "    .dataframe tbody tr th:only-of-type {\n",
       "        vertical-align: middle;\n",
       "    }\n",
       "\n",
       "    .dataframe tbody tr th {\n",
       "        vertical-align: top;\n",
       "    }\n",
       "\n",
       "    .dataframe thead th {\n",
       "        text-align: right;\n",
       "    }\n",
       "</style>\n",
       "<table border=\"1\" class=\"dataframe\">\n",
       "  <thead>\n",
       "    <tr style=\"text-align: right;\">\n",
       "      <th></th>\n",
       "      <th>id_prod</th>\n",
       "      <th>date</th>\n",
       "      <th>session_id</th>\n",
       "      <th>client_id</th>\n",
       "      <th>sex</th>\n",
       "      <th>birth</th>\n",
       "      <th>price</th>\n",
       "      <th>categ</th>\n",
       "    </tr>\n",
       "  </thead>\n",
       "  <tbody>\n",
       "    <tr>\n",
       "      <th>0</th>\n",
       "      <td>0_1518</td>\n",
       "      <td>2022-05-20</td>\n",
       "      <td>s_211425</td>\n",
       "      <td>c_103</td>\n",
       "      <td>f</td>\n",
       "      <td>1986</td>\n",
       "      <td>4.18</td>\n",
       "      <td>0</td>\n",
       "    </tr>\n",
       "    <tr>\n",
       "      <th>1</th>\n",
       "      <td>1_251</td>\n",
       "      <td>2022-02-02</td>\n",
       "      <td>s_158752</td>\n",
       "      <td>c_8534</td>\n",
       "      <td>m</td>\n",
       "      <td>1988</td>\n",
       "      <td>15.99</td>\n",
       "      <td>1</td>\n",
       "    </tr>\n",
       "    <tr>\n",
       "      <th>2</th>\n",
       "      <td>0_1277</td>\n",
       "      <td>2022-06-18</td>\n",
       "      <td>s_225667</td>\n",
       "      <td>c_6714</td>\n",
       "      <td>f</td>\n",
       "      <td>1968</td>\n",
       "      <td>7.99</td>\n",
       "      <td>0</td>\n",
       "    </tr>\n",
       "    <tr>\n",
       "      <th>3</th>\n",
       "      <td>2_209</td>\n",
       "      <td>2021-06-24</td>\n",
       "      <td>s_52962</td>\n",
       "      <td>c_6941</td>\n",
       "      <td>m</td>\n",
       "      <td>2000</td>\n",
       "      <td>69.99</td>\n",
       "      <td>2</td>\n",
       "    </tr>\n",
       "    <tr>\n",
       "      <th>4</th>\n",
       "      <td>0_1509</td>\n",
       "      <td>2023-01-11</td>\n",
       "      <td>s_325227</td>\n",
       "      <td>c_4232</td>\n",
       "      <td>m</td>\n",
       "      <td>1980</td>\n",
       "      <td>4.99</td>\n",
       "      <td>0</td>\n",
       "    </tr>\n",
       "    <tr>\n",
       "      <th>...</th>\n",
       "      <td>...</td>\n",
       "      <td>...</td>\n",
       "      <td>...</td>\n",
       "      <td>...</td>\n",
       "      <td>...</td>\n",
       "      <td>...</td>\n",
       "      <td>...</td>\n",
       "      <td>...</td>\n",
       "    </tr>\n",
       "    <tr>\n",
       "      <th>679327</th>\n",
       "      <td>0_1551</td>\n",
       "      <td>2022-01-15</td>\n",
       "      <td>s_150195</td>\n",
       "      <td>c_8489</td>\n",
       "      <td>f</td>\n",
       "      <td>1951</td>\n",
       "      <td>12.99</td>\n",
       "      <td>0</td>\n",
       "    </tr>\n",
       "    <tr>\n",
       "      <th>679328</th>\n",
       "      <td>1_639</td>\n",
       "      <td>2022-03-19</td>\n",
       "      <td>s_181434</td>\n",
       "      <td>c_4370</td>\n",
       "      <td>f</td>\n",
       "      <td>1977</td>\n",
       "      <td>10.99</td>\n",
       "      <td>1</td>\n",
       "    </tr>\n",
       "    <tr>\n",
       "      <th>679329</th>\n",
       "      <td>0_1425</td>\n",
       "      <td>2022-12-20</td>\n",
       "      <td>s_314704</td>\n",
       "      <td>c_304</td>\n",
       "      <td>f</td>\n",
       "      <td>1988</td>\n",
       "      <td>12.99</td>\n",
       "      <td>0</td>\n",
       "    </tr>\n",
       "    <tr>\n",
       "      <th>679330</th>\n",
       "      <td>0_1994</td>\n",
       "      <td>2021-07-16</td>\n",
       "      <td>s_63204</td>\n",
       "      <td>c_2227</td>\n",
       "      <td>m</td>\n",
       "      <td>1986</td>\n",
       "      <td>4.98</td>\n",
       "      <td>0</td>\n",
       "    </tr>\n",
       "    <tr>\n",
       "      <th>679331</th>\n",
       "      <td>1_523</td>\n",
       "      <td>2022-09-28</td>\n",
       "      <td>s_274568</td>\n",
       "      <td>c_3873</td>\n",
       "      <td>m</td>\n",
       "      <td>1995</td>\n",
       "      <td>23.99</td>\n",
       "      <td>1</td>\n",
       "    </tr>\n",
       "  </tbody>\n",
       "</table>\n",
       "<p>679332 rows × 8 columns</p>\n",
       "</div>"
      ],
      "text/plain": [
       "       id_prod       date session_id client_id sex  birth  price  categ\n",
       "0       0_1518 2022-05-20   s_211425     c_103   f   1986   4.18      0\n",
       "1        1_251 2022-02-02   s_158752    c_8534   m   1988  15.99      1\n",
       "2       0_1277 2022-06-18   s_225667    c_6714   f   1968   7.99      0\n",
       "3        2_209 2021-06-24    s_52962    c_6941   m   2000  69.99      2\n",
       "4       0_1509 2023-01-11   s_325227    c_4232   m   1980   4.99      0\n",
       "...        ...        ...        ...       ...  ..    ...    ...    ...\n",
       "679327  0_1551 2022-01-15   s_150195    c_8489   f   1951  12.99      0\n",
       "679328   1_639 2022-03-19   s_181434    c_4370   f   1977  10.99      1\n",
       "679329  0_1425 2022-12-20   s_314704     c_304   f   1988  12.99      0\n",
       "679330  0_1994 2021-07-16    s_63204    c_2227   m   1986   4.98      0\n",
       "679331   1_523 2022-09-28   s_274568    c_3873   m   1995  23.99      1\n",
       "\n",
       "[679332 rows x 8 columns]"
      ]
     },
     "execution_count": 41,
     "metadata": {},
     "output_type": "execute_result"
    }
   ],
   "source": [
    "recap"
   ]
  },
  {
   "cell_type": "markdown",
   "id": "aca75d6f",
   "metadata": {},
   "source": [
    "###  <center><span style=\"color:#2db4af\"><u>4 - Recherche de valeurs aberrantes  </u></span></center>"
   ]
  },
  {
   "cell_type": "code",
   "execution_count": 42,
   "id": "963dfb6a",
   "metadata": {
    "scrolled": false
   },
   "outputs": [
    {
     "data": {
      "image/png": "[encoded data removed]",
      "text/plain": [
       "<Figure size 2000x500 with 1 Axes>"
      ]
     },
     "metadata": {},
     "output_type": "display_data"
    }
   ],
   "source": [
    "#Préparation des données pour le graphique\n",
    "cat0 = recap[recap['categ'] == 0]['price']\n",
    "cat1 = recap[recap['categ'] == 1]['price']\n",
    "cat2 = recap[recap['categ'] == 2]['price']\n",
    "\n",
    "#Paramètre d'affichage du graphique\n",
    "plt.subplots(figsize=[20,5])\n",
    "plt.xticks(np.arange(0, 350, 10))\n",
    "sns.set_style('whitegrid')\n",
    "sns.boxplot(x='price', y='categ', data=recap, hue='categ', orient='h', flierprops=dict(markerfacecolor='red', markersize=8))\n",
    "plt.yticks(np.arange(3), ['Catégorie 0', 'Catégorie 1', 'Catégorie 2'])\n",
    "plt.xlabel('Prix', weight='bold', size=15)\n",
    "plt.ylabel('Catégories', weight='bold', size=15)\n",
    "plt.show()"
   ]
  },
  {
   "cell_type": "markdown",
   "id": "fe3b1ea9",
   "metadata": {},
   "source": [
    "####  <center><span style=\"color:#2db4af\"><u> 4.1 - Répartition par catégories  </u></span></center>"
   ]
  },
  {
   "cell_type": "code",
   "execution_count": 43,
   "id": "aa3d8bca",
   "metadata": {},
   "outputs": [
    {
     "name": "stdout",
     "output_type": "stream",
     "text": [
      "\n",
      "Information pour la catégorie 0:\n",
      "Le premier quartile à une valeur de : 6.29\n",
      "Le second quartile à une valeur de : 14.45\n",
      "La valeur interquartile est de : 8.16\n",
      "La valeur aberrante inférieure est de : -5.95\n",
      "La valeur aberrante supérieure est de : 26.69\n",
      "\n",
      "Information pour la catégorie 1:\n",
      "Le premier quartile à une valeur de : 15.81\n",
      "Le second quartile à une valeur de : 24.98\n",
      "La valeur interquartile est de : 9.17\n",
      "La valeur aberrante inférieure est de : 2.06\n",
      "La valeur aberrante supérieure est de : 38.74\n",
      "\n",
      "Information pour la catégorie 2:\n",
      "Le premier quartile à une valeur de : 53.99\n",
      "Le second quartile à une valeur de : 73.72\n",
      "La valeur interquartile est de : 19.729999999999997\n",
      "La valeur aberrante inférieure est de : 24.4\n",
      "La valeur aberrante supérieure est de : 103.32\n"
     ]
    }
   ],
   "source": [
    "#Calcul des statistiques de chaque catégories\n",
    "for i in range(3):\n",
    "    cat = recap.loc[recap.categ == i]\n",
    "    Q1 = round(cat.price.quantile(0.25), 2)\n",
    "    Q3 = round(cat.price.quantile(0.75), 2)\n",
    "    IQR = Q3 - Q1\n",
    "    limite_inférieure = round(Q1 - 1.5*IQR,2)\n",
    "    limite_supérieure = round(Q3 + 1.5*IQR,2)\n",
    "    print(f\"\\nInformation pour la catégorie {i}:\")\n",
    "    print(\"Le premier quartile à une valeur de : {:.2f}\".format(Q1))\n",
    "    print(\"Le second quartile à une valeur de : {:.2f}\".format(Q3))\n",
    "    print(f\"La valeur interquartile est de : {IQR}\")\n",
    "    print(f\"La valeur aberrante inférieure est de : {limite_inférieure}\")\n",
    "    print(f\"La valeur aberrante supérieure est de : {limite_supérieure}\")"
   ]
  },
  {
   "cell_type": "code",
   "execution_count": 44,
   "id": "0bbd46f8",
   "metadata": {},
   "outputs": [
    {
     "data": {
      "text/html": [
       "<div>\n",
       "<style scoped>\n",
       "    .dataframe tbody tr th:only-of-type {\n",
       "        vertical-align: middle;\n",
       "    }\n",
       "\n",
       "    .dataframe tbody tr th {\n",
       "        vertical-align: top;\n",
       "    }\n",
       "\n",
       "    .dataframe thead th {\n",
       "        text-align: right;\n",
       "    }\n",
       "</style>\n",
       "<table border=\"1\" class=\"dataframe\">\n",
       "  <thead>\n",
       "    <tr style=\"text-align: right;\">\n",
       "      <th></th>\n",
       "      <th>id_prod</th>\n",
       "      <th>date</th>\n",
       "      <th>session_id</th>\n",
       "      <th>client_id</th>\n",
       "      <th>sex</th>\n",
       "      <th>birth</th>\n",
       "      <th>price</th>\n",
       "      <th>categ</th>\n",
       "    </tr>\n",
       "  </thead>\n",
       "  <tbody>\n",
       "    <tr>\n",
       "      <th>638057</th>\n",
       "      <td>2_2</td>\n",
       "      <td>2021-03-07</td>\n",
       "      <td>s_3041</td>\n",
       "      <td>c_1001</td>\n",
       "      <td>m</td>\n",
       "      <td>1982</td>\n",
       "      <td>300.00</td>\n",
       "      <td>2</td>\n",
       "    </tr>\n",
       "    <tr>\n",
       "      <th>594923</th>\n",
       "      <td>2_2</td>\n",
       "      <td>2022-11-28</td>\n",
       "      <td>s_304241</td>\n",
       "      <td>c_659</td>\n",
       "      <td>f</td>\n",
       "      <td>2001</td>\n",
       "      <td>300.00</td>\n",
       "      <td>2</td>\n",
       "    </tr>\n",
       "    <tr>\n",
       "      <th>319823</th>\n",
       "      <td>2_2</td>\n",
       "      <td>2022-03-28</td>\n",
       "      <td>s_185980</td>\n",
       "      <td>c_659</td>\n",
       "      <td>f</td>\n",
       "      <td>2001</td>\n",
       "      <td>300.00</td>\n",
       "      <td>2</td>\n",
       "    </tr>\n",
       "    <tr>\n",
       "      <th>91228</th>\n",
       "      <td>2_2</td>\n",
       "      <td>2022-08-12</td>\n",
       "      <td>s_252144</td>\n",
       "      <td>c_5237</td>\n",
       "      <td>m</td>\n",
       "      <td>1999</td>\n",
       "      <td>300.00</td>\n",
       "      <td>2</td>\n",
       "    </tr>\n",
       "    <tr>\n",
       "      <th>181540</th>\n",
       "      <td>2_2</td>\n",
       "      <td>2021-12-07</td>\n",
       "      <td>s_130658</td>\n",
       "      <td>c_4958</td>\n",
       "      <td>m</td>\n",
       "      <td>1999</td>\n",
       "      <td>300.00</td>\n",
       "      <td>2</td>\n",
       "    </tr>\n",
       "    <tr>\n",
       "      <th>...</th>\n",
       "      <td>...</td>\n",
       "      <td>...</td>\n",
       "      <td>...</td>\n",
       "      <td>...</td>\n",
       "      <td>...</td>\n",
       "      <td>...</td>\n",
       "      <td>...</td>\n",
       "      <td>...</td>\n",
       "    </tr>\n",
       "    <tr>\n",
       "      <th>484095</th>\n",
       "      <td>0_528</td>\n",
       "      <td>2022-06-20</td>\n",
       "      <td>s_226722</td>\n",
       "      <td>c_7075</td>\n",
       "      <td>m</td>\n",
       "      <td>1988</td>\n",
       "      <td>0.62</td>\n",
       "      <td>0</td>\n",
       "    </tr>\n",
       "    <tr>\n",
       "      <th>291382</th>\n",
       "      <td>0_528</td>\n",
       "      <td>2021-06-20</td>\n",
       "      <td>s_51439</td>\n",
       "      <td>c_7075</td>\n",
       "      <td>m</td>\n",
       "      <td>1988</td>\n",
       "      <td>0.62</td>\n",
       "      <td>0</td>\n",
       "    </tr>\n",
       "    <tr>\n",
       "      <th>452042</th>\n",
       "      <td>0_202</td>\n",
       "      <td>2022-01-27</td>\n",
       "      <td>s_156085</td>\n",
       "      <td>c_7453</td>\n",
       "      <td>m</td>\n",
       "      <td>1986</td>\n",
       "      <td>0.62</td>\n",
       "      <td>0</td>\n",
       "    </tr>\n",
       "    <tr>\n",
       "      <th>612341</th>\n",
       "      <td>0_202</td>\n",
       "      <td>2022-01-06</td>\n",
       "      <td>s_145956</td>\n",
       "      <td>c_2069</td>\n",
       "      <td>m</td>\n",
       "      <td>1986</td>\n",
       "      <td>0.62</td>\n",
       "      <td>0</td>\n",
       "    </tr>\n",
       "    <tr>\n",
       "      <th>403612</th>\n",
       "      <td>0_528</td>\n",
       "      <td>2021-10-20</td>\n",
       "      <td>s_107417</td>\n",
       "      <td>c_5606</td>\n",
       "      <td>f</td>\n",
       "      <td>1959</td>\n",
       "      <td>0.62</td>\n",
       "      <td>0</td>\n",
       "    </tr>\n",
       "  </tbody>\n",
       "</table>\n",
       "<p>585303 rows × 8 columns</p>\n",
       "</div>"
      ],
      "text/plain": [
       "       id_prod       date session_id client_id sex  birth   price  categ\n",
       "638057     2_2 2021-03-07     s_3041    c_1001   m   1982  300.00      2\n",
       "594923     2_2 2022-11-28   s_304241     c_659   f   2001  300.00      2\n",
       "319823     2_2 2022-03-28   s_185980     c_659   f   2001  300.00      2\n",
       "91228      2_2 2022-08-12   s_252144    c_5237   m   1999  300.00      2\n",
       "181540     2_2 2021-12-07   s_130658    c_4958   m   1999  300.00      2\n",
       "...        ...        ...        ...       ...  ..    ...     ...    ...\n",
       "484095   0_528 2022-06-20   s_226722    c_7075   m   1988    0.62      0\n",
       "291382   0_528 2021-06-20    s_51439    c_7075   m   1988    0.62      0\n",
       "452042   0_202 2022-01-27   s_156085    c_7453   m   1986    0.62      0\n",
       "612341   0_202 2022-01-06   s_145956    c_2069   m   1986    0.62      0\n",
       "403612   0_528 2021-10-20   s_107417    c_5606   f   1959    0.62      0\n",
       "\n",
       "[585303 rows x 8 columns]"
      ]
     },
     "execution_count": 44,
     "metadata": {},
     "output_type": "execute_result"
    }
   ],
   "source": [
    "#Affichage des valeurs considérées comme aberrantes\n",
    "recap[(recap.price>limite_supérieure) | (recap.price<limite_inférieure)].sort_values(by=\"price\", ascending=False)"
   ]
  },
  {
   "cell_type": "code",
   "execution_count": 45,
   "id": "25094764",
   "metadata": {},
   "outputs": [],
   "source": [
    "#Renommage des colonnes\n",
    "recap.rename(columns={\"id_prod\":\"produit\", \"session_id\":\"session\", \"client_id\":\"client\", \"sex\":\"sexe\", \"birth\":\"naissance\", \"price\":\"CA\", \"categ\":\"categorie\"}, inplace=True)"
   ]
  },
  {
   "cell_type": "code",
   "execution_count": 46,
   "id": "a23e78c5",
   "metadata": {},
   "outputs": [],
   "source": [
    "#Création et réoganisation des colonnes\n",
    "recap[\"date\"] = pd.to_datetime(recap[\"date\"])\n",
    "recap[\"annee\"] = recap[\"date\"].dt.year\n",
    "recap[\"mois\"] = recap[\"date\"].dt.month\n",
    "recap[\"jour\"] = recap[\"date\"].dt.day\n",
    "recap[\"annee_mois\"] = recap[\"date\"].dt.strftime(\"%Y-%m\")\n",
    "cols = [\"produit\", \"jour\", \"mois\", \"annee\",\"annee_mois\", \"date\", \"client\", \"sexe\", \"naissance\", \"session\",\"categorie\", \"CA\"]\n",
    "recap = recap.reindex(columns=cols)"
   ]
  },
  {
   "cell_type": "code",
   "execution_count": 47,
   "id": "d12bba59",
   "metadata": {},
   "outputs": [
    {
     "name": "stdout",
     "output_type": "stream",
     "text": [
      "<class 'pandas.core.frame.DataFrame'>\n",
      "RangeIndex: 679332 entries, 0 to 679331\n",
      "Data columns (total 12 columns):\n",
      " #   Column      Non-Null Count   Dtype         \n",
      "---  ------      --------------   -----         \n",
      " 0   produit     679332 non-null  object        \n",
      " 1   jour        679332 non-null  int32         \n",
      " 2   mois        679332 non-null  int32         \n",
      " 3   annee       679332 non-null  int32         \n",
      " 4   annee_mois  679332 non-null  object        \n",
      " 5   date        679332 non-null  datetime64[ns]\n",
      " 6   client      679332 non-null  object        \n",
      " 7   sexe        679332 non-null  object        \n",
      " 8   naissance   679332 non-null  int64         \n",
      " 9   session     679332 non-null  object        \n",
      " 10  categorie   679332 non-null  int32         \n",
      " 11  CA          679332 non-null  float64       \n",
      "dtypes: datetime64[ns](1), float64(1), int32(4), int64(1), object(5)\n",
      "memory usage: 51.8+ MB\n"
     ]
    }
   ],
   "source": [
    "recap.info()"
   ]
  },
  {
   "cell_type": "code",
   "execution_count": 48,
   "id": "e86152ef",
   "metadata": {
    "scrolled": false
   },
   "outputs": [
    {
     "ename": "TypeError",
     "evalue": "datetime64 type does not support sum operations",
     "output_type": "error",
     "traceback": [
      "\u001b[1;31m---------------------------------------------------------------------------\u001b[0m",
      "\u001b[1;31mTypeError\u001b[0m                                 Traceback (most recent call last)",
      "Cell \u001b[1;32mIn[48], line 7\u001b[0m\n\u001b[0;32m      3\u001b[0m ax\u001b[38;5;241m.\u001b[39mset_title(\u001b[38;5;124m\"\u001b[39m\u001b[38;5;124mVentes par catégorie en fonction des mois\u001b[39m\u001b[38;5;124m\"\u001b[39m,\n\u001b[0;32m      4\u001b[0m     fontsize\u001b[38;5;241m=\u001b[39m\u001b[38;5;241m22\u001b[39m,weight\u001b[38;5;241m=\u001b[39m\u001b[38;5;124m\"\u001b[39m\u001b[38;5;124mbold\u001b[39m\u001b[38;5;124m\"\u001b[39m,color\u001b[38;5;241m=\u001b[39m\u001b[38;5;124m\"\u001b[39m\u001b[38;5;124mBlack\u001b[39m\u001b[38;5;124m\"\u001b[39m, style\u001b[38;5;241m=\u001b[39m\u001b[38;5;124m\"\u001b[39m\u001b[38;5;124mitalic\u001b[39m\u001b[38;5;124m\"\u001b[39m,loc\u001b[38;5;241m=\u001b[39m\u001b[38;5;124m\"\u001b[39m\u001b[38;5;124mcenter\u001b[39m\u001b[38;5;124m\"\u001b[39m,pad\u001b[38;5;241m=\u001b[39m\u001b[38;5;241m30\u001b[39m)\n\u001b[0;32m      5\u001b[0m plt\u001b[38;5;241m.\u001b[39mbox(\u001b[38;5;28;01mFalse\u001b[39;00m)\n\u001b[1;32m----> 7\u001b[0m ca_mensuel \u001b[38;5;241m=\u001b[39m recap\u001b[38;5;241m.\u001b[39mgroupby([\u001b[38;5;124m\"\u001b[39m\u001b[38;5;124mannee_mois\u001b[39m\u001b[38;5;124m\"\u001b[39m,\u001b[38;5;124m\"\u001b[39m\u001b[38;5;124mcategorie\u001b[39m\u001b[38;5;124m\"\u001b[39m])\u001b[38;5;241m.\u001b[39msum()\u001b[38;5;241m.\u001b[39munstack()\u001b[38;5;241m.\u001b[39mplot(kind\u001b[38;5;241m=\u001b[39m\u001b[38;5;124m'\u001b[39m\u001b[38;5;124mbar\u001b[39m\u001b[38;5;124m'\u001b[39m, \n\u001b[0;32m      8\u001b[0m             y \u001b[38;5;241m=\u001b[39m \u001b[38;5;124m'\u001b[39m\u001b[38;5;124mCA\u001b[39m\u001b[38;5;124m'\u001b[39m,  ax\u001b[38;5;241m=\u001b[39max, stacked\u001b[38;5;241m=\u001b[39m\u001b[38;5;28;01mTrue\u001b[39;00m, figsize \u001b[38;5;241m=\u001b[39m (\u001b[38;5;241m18\u001b[39m,\u001b[38;5;241m10\u001b[39m), \n\u001b[0;32m      9\u001b[0m             color\u001b[38;5;241m=\u001b[39m[\u001b[38;5;124m\"\u001b[39m\u001b[38;5;124mblue\u001b[39m\u001b[38;5;124m\"\u001b[39m, \u001b[38;5;124m\"\u001b[39m\u001b[38;5;124morange\u001b[39m\u001b[38;5;124m\"\u001b[39m, \u001b[38;5;124m\"\u001b[39m\u001b[38;5;124mgreen\u001b[39m\u001b[38;5;124m\"\u001b[39m])\n\u001b[0;32m     10\u001b[0m plt\u001b[38;5;241m.\u001b[39mlegend((\u001b[38;5;124m'\u001b[39m\u001b[38;5;124mCatégorie 0\u001b[39m\u001b[38;5;124m'\u001b[39m, \u001b[38;5;124m'\u001b[39m\u001b[38;5;124mCatégorie 1\u001b[39m\u001b[38;5;124m'\u001b[39m,\u001b[38;5;124m'\u001b[39m\u001b[38;5;124mCatégorie 2\u001b[39m\u001b[38;5;124m'\u001b[39m), loc\u001b[38;5;241m=\u001b[39m\u001b[38;5;124m\"\u001b[39m\u001b[38;5;124mupper center\u001b[39m\u001b[38;5;124m\"\u001b[39m, fontsize\u001b[38;5;241m=\u001b[39m\u001b[38;5;241m16\u001b[39m)\n\u001b[0;32m     12\u001b[0m plt\u001b[38;5;241m.\u001b[39mylabel(\u001b[38;5;124m\"\u001b[39m\u001b[38;5;124mCHIFFRE D\u001b[39m\u001b[38;5;124m'\u001b[39m\u001b[38;5;124mAFFAIRES\u001b[39m\u001b[38;5;124m\"\u001b[39m, weight\u001b[38;5;241m=\u001b[39m\u001b[38;5;124m'\u001b[39m\u001b[38;5;124mbold\u001b[39m\u001b[38;5;124m'\u001b[39m, size\u001b[38;5;241m=\u001b[39m\u001b[38;5;241m15\u001b[39m)\n",
      "File \u001b[1;32m~\\anaconda3\\Lib\\site-packages\\pandas\\core\\groupby\\groupby.py:2263\u001b[0m, in \u001b[0;36mGroupBy.sum\u001b[1;34m(self, numeric_only, min_count, engine, engine_kwargs)\u001b[0m\n\u001b[0;32m   2258\u001b[0m \u001b[38;5;28;01melse\u001b[39;00m:\n\u001b[0;32m   2259\u001b[0m     \u001b[38;5;66;03m# If we are grouping on categoricals we want unobserved categories to\u001b[39;00m\n\u001b[0;32m   2260\u001b[0m     \u001b[38;5;66;03m# return zero, rather than the default of NaN which the reindexing in\u001b[39;00m\n\u001b[0;32m   2261\u001b[0m     \u001b[38;5;66;03m# _agg_general() returns. GH #31422\u001b[39;00m\n\u001b[0;32m   2262\u001b[0m     \u001b[38;5;28;01mwith\u001b[39;00m com\u001b[38;5;241m.\u001b[39mtemp_setattr(\u001b[38;5;28mself\u001b[39m, \u001b[38;5;124m\"\u001b[39m\u001b[38;5;124mobserved\u001b[39m\u001b[38;5;124m\"\u001b[39m, \u001b[38;5;28;01mTrue\u001b[39;00m):\n\u001b[1;32m-> 2263\u001b[0m         result \u001b[38;5;241m=\u001b[39m \u001b[38;5;28mself\u001b[39m\u001b[38;5;241m.\u001b[39m_agg_general(\n\u001b[0;32m   2264\u001b[0m             numeric_only\u001b[38;5;241m=\u001b[39mnumeric_only,\n\u001b[0;32m   2265\u001b[0m             min_count\u001b[38;5;241m=\u001b[39mmin_count,\n\u001b[0;32m   2266\u001b[0m             alias\u001b[38;5;241m=\u001b[39m\u001b[38;5;124m\"\u001b[39m\u001b[38;5;124msum\u001b[39m\u001b[38;5;124m\"\u001b[39m,\n\u001b[0;32m   2267\u001b[0m             npfunc\u001b[38;5;241m=\u001b[39mnp\u001b[38;5;241m.\u001b[39msum,\n\u001b[0;32m   2268\u001b[0m         )\n\u001b[0;32m   2270\u001b[0m     \u001b[38;5;28;01mreturn\u001b[39;00m \u001b[38;5;28mself\u001b[39m\u001b[38;5;241m.\u001b[39m_reindex_output(result, fill_value\u001b[38;5;241m=\u001b[39m\u001b[38;5;241m0\u001b[39m)\n",
      "File \u001b[1;32m~\\anaconda3\\Lib\\site-packages\\pandas\\core\\groupby\\groupby.py:1422\u001b[0m, in \u001b[0;36mGroupBy._agg_general\u001b[1;34m(self, numeric_only, min_count, alias, npfunc)\u001b[0m\n\u001b[0;32m   1413\u001b[0m \u001b[38;5;129m@final\u001b[39m\n\u001b[0;32m   1414\u001b[0m \u001b[38;5;28;01mdef\u001b[39;00m \u001b[38;5;21m_agg_general\u001b[39m(\n\u001b[0;32m   1415\u001b[0m     \u001b[38;5;28mself\u001b[39m,\n\u001b[1;32m   (...)\u001b[0m\n\u001b[0;32m   1420\u001b[0m     npfunc: Callable,\n\u001b[0;32m   1421\u001b[0m ):\n\u001b[1;32m-> 1422\u001b[0m     result \u001b[38;5;241m=\u001b[39m \u001b[38;5;28mself\u001b[39m\u001b[38;5;241m.\u001b[39m_cython_agg_general(\n\u001b[0;32m   1423\u001b[0m         how\u001b[38;5;241m=\u001b[39malias,\n\u001b[0;32m   1424\u001b[0m         alt\u001b[38;5;241m=\u001b[39mnpfunc,\n\u001b[0;32m   1425\u001b[0m         numeric_only\u001b[38;5;241m=\u001b[39mnumeric_only,\n\u001b[0;32m   1426\u001b[0m         min_count\u001b[38;5;241m=\u001b[39mmin_count,\n\u001b[0;32m   1427\u001b[0m     )\n\u001b[0;32m   1428\u001b[0m     \u001b[38;5;28;01mreturn\u001b[39;00m result\u001b[38;5;241m.\u001b[39m__finalize__(\u001b[38;5;28mself\u001b[39m\u001b[38;5;241m.\u001b[39mobj, method\u001b[38;5;241m=\u001b[39m\u001b[38;5;124m\"\u001b[39m\u001b[38;5;124mgroupby\u001b[39m\u001b[38;5;124m\"\u001b[39m)\n",
      "File \u001b[1;32m~\\anaconda3\\Lib\\site-packages\\pandas\\core\\groupby\\groupby.py:1507\u001b[0m, in \u001b[0;36mGroupBy._cython_agg_general\u001b[1;34m(self, how, alt, numeric_only, min_count, **kwargs)\u001b[0m\n\u001b[0;32m   1503\u001b[0m         result \u001b[38;5;241m=\u001b[39m \u001b[38;5;28mself\u001b[39m\u001b[38;5;241m.\u001b[39m_agg_py_fallback(values, ndim\u001b[38;5;241m=\u001b[39mdata\u001b[38;5;241m.\u001b[39mndim, alt\u001b[38;5;241m=\u001b[39malt)\n\u001b[0;32m   1505\u001b[0m     \u001b[38;5;28;01mreturn\u001b[39;00m result\n\u001b[1;32m-> 1507\u001b[0m new_mgr \u001b[38;5;241m=\u001b[39m data\u001b[38;5;241m.\u001b[39mgrouped_reduce(array_func)\n\u001b[0;32m   1508\u001b[0m res \u001b[38;5;241m=\u001b[39m \u001b[38;5;28mself\u001b[39m\u001b[38;5;241m.\u001b[39m_wrap_agged_manager(new_mgr)\n\u001b[0;32m   1509\u001b[0m out \u001b[38;5;241m=\u001b[39m \u001b[38;5;28mself\u001b[39m\u001b[38;5;241m.\u001b[39m_wrap_aggregated_output(res)\n",
      "File \u001b[1;32m~\\anaconda3\\Lib\\site-packages\\pandas\\core\\internals\\managers.py:1506\u001b[0m, in \u001b[0;36mBlockManager.grouped_reduce\u001b[1;34m(self, func)\u001b[0m\n\u001b[0;32m   1504\u001b[0m             result_blocks \u001b[38;5;241m=\u001b[39m extend_blocks(applied, result_blocks)\n\u001b[0;32m   1505\u001b[0m     \u001b[38;5;28;01melse\u001b[39;00m:\n\u001b[1;32m-> 1506\u001b[0m         applied \u001b[38;5;241m=\u001b[39m blk\u001b[38;5;241m.\u001b[39mapply(func)\n\u001b[0;32m   1507\u001b[0m         result_blocks \u001b[38;5;241m=\u001b[39m extend_blocks(applied, result_blocks)\n\u001b[0;32m   1509\u001b[0m \u001b[38;5;28;01mif\u001b[39;00m \u001b[38;5;28mlen\u001b[39m(result_blocks) \u001b[38;5;241m==\u001b[39m \u001b[38;5;241m0\u001b[39m:\n",
      "File \u001b[1;32m~\\anaconda3\\Lib\\site-packages\\pandas\\core\\internals\\blocks.py:329\u001b[0m, in \u001b[0;36mBlock.apply\u001b[1;34m(self, func, **kwargs)\u001b[0m\n\u001b[0;32m    323\u001b[0m \u001b[38;5;129m@final\u001b[39m\n\u001b[0;32m    324\u001b[0m \u001b[38;5;28;01mdef\u001b[39;00m \u001b[38;5;21mapply\u001b[39m(\u001b[38;5;28mself\u001b[39m, func, \u001b[38;5;241m*\u001b[39m\u001b[38;5;241m*\u001b[39mkwargs) \u001b[38;5;241m-\u001b[39m\u001b[38;5;241m>\u001b[39m \u001b[38;5;28mlist\u001b[39m[Block]:\n\u001b[0;32m    325\u001b[0m \u001b[38;5;250m    \u001b[39m\u001b[38;5;124;03m\"\"\"\u001b[39;00m\n\u001b[0;32m    326\u001b[0m \u001b[38;5;124;03m    apply the function to my values; return a block if we are not\u001b[39;00m\n\u001b[0;32m    327\u001b[0m \u001b[38;5;124;03m    one\u001b[39;00m\n\u001b[0;32m    328\u001b[0m \u001b[38;5;124;03m    \"\"\"\u001b[39;00m\n\u001b[1;32m--> 329\u001b[0m     result \u001b[38;5;241m=\u001b[39m func(\u001b[38;5;28mself\u001b[39m\u001b[38;5;241m.\u001b[39mvalues, \u001b[38;5;241m*\u001b[39m\u001b[38;5;241m*\u001b[39mkwargs)\n\u001b[0;32m    331\u001b[0m     \u001b[38;5;28;01mreturn\u001b[39;00m \u001b[38;5;28mself\u001b[39m\u001b[38;5;241m.\u001b[39m_split_op_result(result)\n",
      "File \u001b[1;32m~\\anaconda3\\Lib\\site-packages\\pandas\\core\\groupby\\groupby.py:1490\u001b[0m, in \u001b[0;36mGroupBy._cython_agg_general.<locals>.array_func\u001b[1;34m(values)\u001b[0m\n\u001b[0;32m   1488\u001b[0m \u001b[38;5;28;01mdef\u001b[39;00m \u001b[38;5;21marray_func\u001b[39m(values: ArrayLike) \u001b[38;5;241m-\u001b[39m\u001b[38;5;241m>\u001b[39m ArrayLike:\n\u001b[0;32m   1489\u001b[0m     \u001b[38;5;28;01mtry\u001b[39;00m:\n\u001b[1;32m-> 1490\u001b[0m         result \u001b[38;5;241m=\u001b[39m \u001b[38;5;28mself\u001b[39m\u001b[38;5;241m.\u001b[39mgrouper\u001b[38;5;241m.\u001b[39m_cython_operation(\n\u001b[0;32m   1491\u001b[0m             \u001b[38;5;124m\"\u001b[39m\u001b[38;5;124maggregate\u001b[39m\u001b[38;5;124m\"\u001b[39m,\n\u001b[0;32m   1492\u001b[0m             values,\n\u001b[0;32m   1493\u001b[0m             how,\n\u001b[0;32m   1494\u001b[0m             axis\u001b[38;5;241m=\u001b[39mdata\u001b[38;5;241m.\u001b[39mndim \u001b[38;5;241m-\u001b[39m \u001b[38;5;241m1\u001b[39m,\n\u001b[0;32m   1495\u001b[0m             min_count\u001b[38;5;241m=\u001b[39mmin_count,\n\u001b[0;32m   1496\u001b[0m             \u001b[38;5;241m*\u001b[39m\u001b[38;5;241m*\u001b[39mkwargs,\n\u001b[0;32m   1497\u001b[0m         )\n\u001b[0;32m   1498\u001b[0m     \u001b[38;5;28;01mexcept\u001b[39;00m \u001b[38;5;167;01mNotImplementedError\u001b[39;00m:\n\u001b[0;32m   1499\u001b[0m         \u001b[38;5;66;03m# generally if we have numeric_only=False\u001b[39;00m\n\u001b[0;32m   1500\u001b[0m         \u001b[38;5;66;03m# and non-applicable functions\u001b[39;00m\n\u001b[0;32m   1501\u001b[0m         \u001b[38;5;66;03m# try to python agg\u001b[39;00m\n\u001b[0;32m   1502\u001b[0m         \u001b[38;5;66;03m# TODO: shouldn't min_count matter?\u001b[39;00m\n\u001b[0;32m   1503\u001b[0m         result \u001b[38;5;241m=\u001b[39m \u001b[38;5;28mself\u001b[39m\u001b[38;5;241m.\u001b[39m_agg_py_fallback(values, ndim\u001b[38;5;241m=\u001b[39mdata\u001b[38;5;241m.\u001b[39mndim, alt\u001b[38;5;241m=\u001b[39malt)\n",
      "File \u001b[1;32m~\\anaconda3\\Lib\\site-packages\\pandas\\core\\groupby\\ops.py:959\u001b[0m, in \u001b[0;36mBaseGrouper._cython_operation\u001b[1;34m(self, kind, values, how, axis, min_count, **kwargs)\u001b[0m\n\u001b[0;32m    957\u001b[0m ids, _, _ \u001b[38;5;241m=\u001b[39m \u001b[38;5;28mself\u001b[39m\u001b[38;5;241m.\u001b[39mgroup_info\n\u001b[0;32m    958\u001b[0m ngroups \u001b[38;5;241m=\u001b[39m \u001b[38;5;28mself\u001b[39m\u001b[38;5;241m.\u001b[39mngroups\n\u001b[1;32m--> 959\u001b[0m \u001b[38;5;28;01mreturn\u001b[39;00m cy_op\u001b[38;5;241m.\u001b[39mcython_operation(\n\u001b[0;32m    960\u001b[0m     values\u001b[38;5;241m=\u001b[39mvalues,\n\u001b[0;32m    961\u001b[0m     axis\u001b[38;5;241m=\u001b[39maxis,\n\u001b[0;32m    962\u001b[0m     min_count\u001b[38;5;241m=\u001b[39mmin_count,\n\u001b[0;32m    963\u001b[0m     comp_ids\u001b[38;5;241m=\u001b[39mids,\n\u001b[0;32m    964\u001b[0m     ngroups\u001b[38;5;241m=\u001b[39mngroups,\n\u001b[0;32m    965\u001b[0m     \u001b[38;5;241m*\u001b[39m\u001b[38;5;241m*\u001b[39mkwargs,\n\u001b[0;32m    966\u001b[0m )\n",
      "File \u001b[1;32m~\\anaconda3\\Lib\\site-packages\\pandas\\core\\groupby\\ops.py:645\u001b[0m, in \u001b[0;36mWrappedCythonOp.cython_operation\u001b[1;34m(self, values, axis, min_count, comp_ids, ngroups, **kwargs)\u001b[0m\n\u001b[0;32m    641\u001b[0m is_numeric \u001b[38;5;241m=\u001b[39m is_numeric_dtype(dtype)\n\u001b[0;32m    643\u001b[0m \u001b[38;5;66;03m# can we do this operation with our cython functions\u001b[39;00m\n\u001b[0;32m    644\u001b[0m \u001b[38;5;66;03m# if not raise NotImplementedError\u001b[39;00m\n\u001b[1;32m--> 645\u001b[0m \u001b[38;5;28mself\u001b[39m\u001b[38;5;241m.\u001b[39m_disallow_invalid_ops(dtype, is_numeric)\n\u001b[0;32m    647\u001b[0m \u001b[38;5;28;01mif\u001b[39;00m \u001b[38;5;129;01mnot\u001b[39;00m \u001b[38;5;28misinstance\u001b[39m(values, np\u001b[38;5;241m.\u001b[39mndarray):\n\u001b[0;32m    648\u001b[0m     \u001b[38;5;66;03m# i.e. ExtensionArray\u001b[39;00m\n\u001b[0;32m    649\u001b[0m     \u001b[38;5;28;01mreturn\u001b[39;00m \u001b[38;5;28mself\u001b[39m\u001b[38;5;241m.\u001b[39m_ea_wrap_cython_operation(\n\u001b[0;32m    650\u001b[0m         values,\n\u001b[0;32m    651\u001b[0m         min_count\u001b[38;5;241m=\u001b[39mmin_count,\n\u001b[1;32m   (...)\u001b[0m\n\u001b[0;32m    654\u001b[0m         \u001b[38;5;241m*\u001b[39m\u001b[38;5;241m*\u001b[39mkwargs,\n\u001b[0;32m    655\u001b[0m     )\n",
      "File \u001b[1;32m~\\anaconda3\\Lib\\site-packages\\pandas\\core\\groupby\\ops.py:257\u001b[0m, in \u001b[0;36mWrappedCythonOp._disallow_invalid_ops\u001b[1;34m(self, dtype, is_numeric)\u001b[0m\n\u001b[0;32m    254\u001b[0m \u001b[38;5;28;01melif\u001b[39;00m is_datetime64_any_dtype(dtype):\n\u001b[0;32m    255\u001b[0m     \u001b[38;5;66;03m# Adding/multiplying datetimes is not valid\u001b[39;00m\n\u001b[0;32m    256\u001b[0m     \u001b[38;5;28;01mif\u001b[39;00m how \u001b[38;5;129;01min\u001b[39;00m [\u001b[38;5;124m\"\u001b[39m\u001b[38;5;124msum\u001b[39m\u001b[38;5;124m\"\u001b[39m, \u001b[38;5;124m\"\u001b[39m\u001b[38;5;124mprod\u001b[39m\u001b[38;5;124m\"\u001b[39m, \u001b[38;5;124m\"\u001b[39m\u001b[38;5;124mcumsum\u001b[39m\u001b[38;5;124m\"\u001b[39m, \u001b[38;5;124m\"\u001b[39m\u001b[38;5;124mcumprod\u001b[39m\u001b[38;5;124m\"\u001b[39m]:\n\u001b[1;32m--> 257\u001b[0m         \u001b[38;5;28;01mraise\u001b[39;00m \u001b[38;5;167;01mTypeError\u001b[39;00m(\u001b[38;5;124mf\u001b[39m\u001b[38;5;124m\"\u001b[39m\u001b[38;5;124mdatetime64 type does not support \u001b[39m\u001b[38;5;132;01m{\u001b[39;00mhow\u001b[38;5;132;01m}\u001b[39;00m\u001b[38;5;124m operations\u001b[39m\u001b[38;5;124m\"\u001b[39m)\n\u001b[0;32m    258\u001b[0m \u001b[38;5;28;01melif\u001b[39;00m is_period_dtype(dtype):\n\u001b[0;32m    259\u001b[0m     \u001b[38;5;66;03m# Adding/multiplying Periods is not valid\u001b[39;00m\n\u001b[0;32m    260\u001b[0m     \u001b[38;5;28;01mif\u001b[39;00m how \u001b[38;5;129;01min\u001b[39;00m [\u001b[38;5;124m\"\u001b[39m\u001b[38;5;124msum\u001b[39m\u001b[38;5;124m\"\u001b[39m, \u001b[38;5;124m\"\u001b[39m\u001b[38;5;124mprod\u001b[39m\u001b[38;5;124m\"\u001b[39m, \u001b[38;5;124m\"\u001b[39m\u001b[38;5;124mcumsum\u001b[39m\u001b[38;5;124m\"\u001b[39m, \u001b[38;5;124m\"\u001b[39m\u001b[38;5;124mcumprod\u001b[39m\u001b[38;5;124m\"\u001b[39m]:\n",
      "\u001b[1;31mTypeError\u001b[0m: datetime64 type does not support sum operations"
     ]
    },
    {
     "data": {
      "image/png": "[encoded data removed]",
      "text/plain": [
       "<Figure size 1800x1000 with 1 Axes>"
      ]
     },
     "metadata": {},
     "output_type": "display_data"
    }
   ],
   "source": [
    "#Affichage des ventes avec indicateur des catégories\n",
    "fig,ax =plt.subplots(figsize=(18,10))\n",
    "ax.set_title(\"Ventes par catégorie en fonction des mois\",\n",
    "    fontsize=22,weight=\"bold\",color=\"Black\", style=\"italic\",loc=\"center\",pad=30)\n",
    "plt.box(False)\n",
    "\n",
    "ca_mensuel = recap.groupby([\"annee_mois\",\"categorie\"]).sum().unstack().plot(kind='bar', \n",
    "            y = 'CA',  ax=ax, stacked=True, figsize = (18,10), \n",
    "            color=[\"blue\", \"orange\", \"green\"])\n",
    "plt.legend(('Catégorie 0', 'Catégorie 1','Catégorie 2'), loc=\"upper center\", fontsize=16)\n",
    "\n",
    "plt.ylabel(\"CHIFFRE D'AFFAIRES\", weight='bold', size=15)\n",
    "plt.xlabel(\"MOIS\", weight='bold', size=15)\n",
    "plt.yticks(np.arange(0, 750000, 50000), fontsize=12)\n",
    "plt.xticks(rotation=90, fontsize=12)\n",
    "plt.show()"
   ]
  },
  {
   "cell_type": "code",
   "execution_count": null,
   "id": "f2b654fc",
   "metadata": {},
   "outputs": [],
   "source": [
    "#Observation du mois d'octobre 2021\n",
    "graph_ca_oct21 = recap.groupby([\"date\",\"categorie\"])[\"CA\"].sum().reset_index()\n",
    "mask_graph_oct21 =(graph_ca_oct21[\"date\"]>=\"2021-10-1\") & (graph_ca_oct21[\"date\"]<=\"2021-10-31\")\n",
    "graph_ca_oct21 = graph_ca_oct21.loc[mask_graph_oct21]\n",
    "graph_ca_oct21[\"date\"] = graph_ca_oct21[\"date\"].astype(str)"
   ]
  },
  {
   "cell_type": "code",
   "execution_count": null,
   "id": "52c32126",
   "metadata": {
    "scrolled": false
   },
   "outputs": [],
   "source": [
    "#Affichage en graphique du chiffre d'affaire pour le mois d'octobre 2021\n",
    "fig,ax =plt.subplots(figsize=(18,10))\n",
    "ax.set_title(\"CA par catégorie - Octobre 2021\",\n",
    "    fontsize=22,weight=\"bold\",color=\"Black\", style=\"italic\",loc=\"center\",pad=30)\n",
    "plt.box(False)\n",
    "\n",
    "graph_ca_oct21.groupby(['date','categorie']).sum().unstack().plot(kind='bar', \n",
    "            y = 'CA',  ax=ax, stacked=True, figsize = (18,10), \n",
    "            color=['blue', 'orange', 'green'])\n",
    "plt.legend(('Catégorie 0', 'Catégorie 1','Catégorie 2'), loc=\"upper center\", fontsize=16)\n",
    "\n",
    "plt.ylabel(\"CHIFFRE D'AFFAIRES\", weight='bold', size=15)\n",
    "plt.xlabel(\"JOURS\", weight='bold', size=15)\n",
    "plt.yticks(np.arange(0, 19000, 1500), fontsize=12)\n",
    "plt.xticks(rotation=90, fontsize=12)\n",
    "plt.show()"
   ]
  },
  {
   "cell_type": "code",
   "execution_count": null,
   "id": "62578fc9",
   "metadata": {},
   "outputs": [],
   "source": [
    "recap[\"date\"] = pd.to_datetime(recap[\"date\"])\n",
    "octobre21 = recap.loc[(recap[\"date\"] >= \"2021-10-01\") & (recap[\"date\"] <= \"2021-10-31\")]\n",
    "octobre21"
   ]
  },
  {
   "cell_type": "code",
   "execution_count": null,
   "id": "af52a4b7",
   "metadata": {},
   "outputs": [],
   "source": [
    "#Analyse des données sur le mois d'octobre 2021\n",
    "#profile = ProfileReport(graph_ca_oct21, title=\"oct21_v1\")\n",
    "#profile.to_widgets()"
   ]
  },
  {
   "cell_type": "code",
   "execution_count": null,
   "id": "ab041b55",
   "metadata": {},
   "outputs": [],
   "source": [
    "#Nombre de transactions\n",
    "total_session = recap[\"session\"].count()\n",
    "print(f\"Il y a eu {total_session} transactions\")"
   ]
  },
  {
   "cell_type": "code",
   "execution_count": null,
   "id": "6ed09a07",
   "metadata": {},
   "outputs": [],
   "source": [
    "#Chiffre d'affaires total\n",
    "total_ca = recap[\"CA\"].sum()\n",
    "print(f\"repésentant un Chiffre d'affaire total de {total_ca:,} €\")"
   ]
  },
  {
   "cell_type": "code",
   "execution_count": null,
   "id": "46ab21db",
   "metadata": {},
   "outputs": [],
   "source": [
    "#Suppression des jours du mois d'octobre représentant une anomalie\n",
    "recap = recap[(recap[\"date\"] < \"2021-10-02\") | (recap[\"date\"] > \"2021-10-27\")]"
   ]
  },
  {
   "cell_type": "code",
   "execution_count": null,
   "id": "8ed587de",
   "metadata": {},
   "outputs": [],
   "source": [
    "#Nombre de transactions\n",
    "total_session = recap[\"session\"].count()\n",
    "print(f\"Il y a eu {total_session} transactions\")"
   ]
  },
  {
   "cell_type": "code",
   "execution_count": null,
   "id": "4dafe75c",
   "metadata": {},
   "outputs": [],
   "source": [
    "#Chiffre d'affaires total\n",
    "total_ca = recap[\"CA\"].sum()\n",
    "print(f\"repésentant un Chiffre d'affaire total de {total_ca:,} €\")"
   ]
  },
  {
   "cell_type": "code",
   "execution_count": null,
   "id": "a463cb51",
   "metadata": {
    "scrolled": false
   },
   "outputs": [],
   "source": [
    "#Observation du mois d'octobre 2021\n",
    "graph_ca_oct21b = recap.groupby([\"date\",\"categorie\"])[\"CA\"].sum().reset_index()\n",
    "mask_graph_oct21b =(graph_ca_oct21b[\"date\"]>=\"2021-10-1\") & (graph_ca_oct21b[\"date\"]<=\"2021-10-31\")\n",
    "graph_ca_oct21b = graph_ca_oct21b.loc[mask_graph_oct21b]\n",
    "graph_ca_oct21b[\"date\"] = graph_ca_oct21b[\"date\"].astype(str)\n",
    "\n",
    "#Affichage en graphique du chiffre d'affaire pour le mois d'octobre 2021\n",
    "fig,ax =plt.subplots(figsize=(18,10))\n",
    "ax.set_title(\"CA par catégorie - Octobre 2021\",\n",
    "    fontsize=22,weight=\"bold\",color=\"Black\", style=\"italic\",loc=\"center\",pad=30)\n",
    "plt.box(False)\n",
    "\n",
    "graph_ca_oct21b.groupby(['date','categorie']).sum().unstack().plot(kind='bar', \n",
    "            y = 'CA',  ax=ax, stacked=True, figsize = (18,10), \n",
    "            color=['blue', 'orange', 'green'])\n",
    "plt.legend(('Catégorie 0', 'Catégorie 1','Catégorie 2'), loc=\"upper center\", fontsize=16)\n",
    "\n",
    "plt.ylabel(\"CHIFFRE D'AFFAIRES\", weight='bold', size=15)\n",
    "plt.xlabel(\"JOURS\", weight='bold', size=15)\n",
    "plt.yticks(np.arange(0, 19000, 1500), fontsize=12)\n",
    "plt.xticks(rotation=90, fontsize=12)\n",
    "plt.show()"
   ]
  },
  {
   "cell_type": "markdown",
   "id": "df0108a7",
   "metadata": {},
   "source": [
    "###  <center><span style=\"color:#2db4af\"><u>Préparation de variables utiles pour l'analyse</u></span></center>"
   ]
  },
  {
   "cell_type": "code",
   "execution_count": null,
   "id": "d4add597",
   "metadata": {},
   "outputs": [],
   "source": [
    "#CA par clients\n",
    "ca_par_client = recap.groupby(\"client\")[\"CA\"].sum()\n",
    "\n",
    "#CA par Produits\n",
    "ca_par_produit = recap.groupby(\"produit\")[\"CA\"].sum()\n",
    "\n",
    "#Nombre de produits vendu par client\n",
    "nb_pdt_par_client = recap.groupby(\"client\")[\"produit\"].count()\n",
    "\n",
    "#Nombre de produits vendus par produits\n",
    "nb_pdt_par_pdt = recap.groupby('produit')['client'].count()\n",
    "\n",
    "#Chiffre d'affaires moyen par client\n",
    "ca_moy_par_client = recap.groupby(\"client\")[\"CA\"].mean()\n",
    "\n",
    "#Chiffre d'affaires moyen par produit\n",
    "ca_moy_par_pdt = recap.groupby(\"client\")[\"CA\"].mean()\n",
    "\n",
    "#Chiffre d'affaire moyen par catégorie\n",
    "ca_moy_par_cat = recap.groupby('categorie')['CA'].mean()\n",
    "\n",
    "#Chiffre d'affaires total par client\n",
    "ca_tt_client = recap.groupby(\"client\")[\"CA\"].max()\n",
    "\n",
    "#Chiffre d'affaires total par produit\n",
    "ca_tt_par_pdt = recap.groupby(\"produit\")[\"CA\"].max()\n",
    "\n",
    "#Chiffre d'affaires minimal par clients\n",
    "ca_min_par_client = recap.groupby('client')['CA'].min()\n",
    "\n",
    "#Chiffre d'affaires minimal par produits\n",
    "ca_min_par_produit = recap.groupby('produit')['CA'].min()\n",
    "\n",
    "#Chiffre d'affaires total par jour\n",
    "ca_tt_jour = recap.groupby('date')['CA'].sum()\n",
    "\n",
    "#Chiffre d'affaires total par semaine\n",
    "recap['semaine'] = recap['date'].dt.week\n",
    "ca_tt_hebdo = recap.groupby('semaine')['CA'].sum()\n",
    "\n",
    "#Chiffre d'affaires total par mois\n",
    "ca_total_mois = recap.groupby('annee_mois')['CA'].sum()\n",
    "\n",
    "#Chiffre d'affaires total par année\n",
    "ca_total_année = recap.groupby('annee')['CA'].sum()\n",
    "\n",
    "#ajout de l'année pour les calculs des ages\n",
    "current_year = 2023\n",
    "recap['age'] = current_year - recap['naissance']"
   ]
  },
  {
   "cell_type": "markdown",
   "id": "6ee2ea99",
   "metadata": {},
   "source": [
    "<hr>"
   ]
  },
  {
   "cell_type": "markdown",
   "id": "4c354d76",
   "metadata": {},
   "source": [
    "---"
   ]
  },
  {
   "cell_type": "markdown",
   "id": "656edf1c",
   "metadata": {},
   "source": [
    "## <center><span style=\"color:#0131b4\"><u>Les Questions</u></span></center>"
   ]
  },
  {
   "cell_type": "markdown",
   "id": "a69496ba",
   "metadata": {},
   "source": [
    "##  <center><span style=\"color:grey\"><u>Antoine / Annabelle</u></span></center>"
   ]
  },
  {
   "cell_type": "markdown",
   "id": "10bc591c",
   "metadata": {},
   "source": [
    "###  <center><span style=\"color:#2db4af\"><u>Revue du chiffre d'affaire</u></span></center>"
   ]
  },
  {
   "cell_type": "markdown",
   "id": "6b0f219d",
   "metadata": {},
   "source": [
    "####  <center><span style=\"color:#008080\"><u>Vue du CA par semaine</u></span></center>"
   ]
  },
  {
   "cell_type": "code",
   "execution_count": null,
   "id": "cb8a23d8",
   "metadata": {
    "scrolled": false
   },
   "outputs": [],
   "source": [
    "#Agrégation des données par semaine\n",
    "ca_semaine = recap.groupby(['annee', 'semaine'])['CA'].sum().reset_index()\n",
    "\n",
    "#Création du graphique\n",
    "fig, ax = plt.subplots(figsize=(15, 6))\n",
    "\n",
    "#Graphique du chiffre d'affaires par semaine\n",
    "sns.lineplot(x='semaine', y='CA', hue='annee', data=ca_semaine)\n",
    "plt.title('Chiffre d\\'affaires par semaine')\n",
    "plt.xlabel('Semaine')\n",
    "plt.ylabel('Chiffre d\\'affaires')\n",
    "ax.set_xticks(range(0, 53))\n",
    "\n",
    "plt.show()"
   ]
  },
  {
   "cell_type": "markdown",
   "id": "5baf5791",
   "metadata": {},
   "source": [
    "###### Nous disposons des informations de mars à décembre pour 2021 et janvier et février pour 2023. Seul l'année 2022 est complète"
   ]
  },
  {
   "cell_type": "markdown",
   "id": "134e10fe",
   "metadata": {},
   "source": [
    "####  <center><span style=\"color:#008080\"><u>Vue du CA par mois</u></span></center>"
   ]
  },
  {
   "cell_type": "code",
   "execution_count": null,
   "id": "99ff0d53",
   "metadata": {},
   "outputs": [],
   "source": [
    "ca_mois = recap.groupby('annee_mois')['CA'].sum()\n",
    "\n",
    "fig = plt.figure(figsize=(15, 6))\n",
    "plt.plot(ca_mois.index, ca_mois.values)\n",
    "plt.title('Chiffre d\\'affaires par mois')\n",
    "plt.xlabel('Mois')\n",
    "plt.ylabel('Chiffre d\\'affaires')\n",
    "plt.xticks(rotation=90, fontsize=12)\n",
    "plt.show()"
   ]
  },
  {
   "cell_type": "markdown",
   "id": "bdb261db",
   "metadata": {},
   "source": [
    "####  <center><span style=\"color:#008080\"><u>Apercu du CA pour la catégorie 0</u></span></center>"
   ]
  },
  {
   "cell_type": "code",
   "execution_count": null,
   "id": "527992fe",
   "metadata": {},
   "outputs": [],
   "source": [
    "#Affichage du CA pour la cat 0\n",
    "cat_0 = recap[recap[\"categorie\"] == 0]\n",
    "ca_0 = cat_0.groupby(\"annee_mois\")[\"CA\"].sum()\n",
    "plt.figure(figsize=(15, 5))\n",
    "plt.plot(ca_0.index, ca_0.values, color=\"blue\", label=\"Catégorie 0\")\n",
    "plt.title(\"Evolution du chiffre d'affaire de la catégorie 0\")\n",
    "plt.legend()\n",
    "plt.xticks(rotation=90, fontsize=12)\n",
    "plt.show()"
   ]
  },
  {
   "cell_type": "markdown",
   "id": "bd427529",
   "metadata": {},
   "source": [
    "####  <center><span style=\"color:#008080\"><u>Apercu du CA pour la catégorie 1</u></span></center>"
   ]
  },
  {
   "cell_type": "code",
   "execution_count": null,
   "id": "3857c104",
   "metadata": {},
   "outputs": [],
   "source": [
    "#Affichage du CA pour la cat 1\n",
    "cat_1 = recap[recap[\"categorie\"] == 1]\n",
    "ca_1 = cat_1.groupby(\"annee_mois\")[\"CA\"].sum()\n",
    "plt.figure(figsize=(15, 5))\n",
    "plt.plot(ca_1.index, ca_1.values, color=\"orange\", label=\"Catégorie 1\")\n",
    "plt.title(\"Evolution du chiffre d'affaire de la catégorie 1\")\n",
    "plt.legend()\n",
    "plt.xticks(rotation=90, fontsize=12)\n",
    "plt.show()"
   ]
  },
  {
   "cell_type": "markdown",
   "id": "7d41e0db",
   "metadata": {},
   "source": [
    "####  <center><span style=\"color:#008080\"><u>Apercu du CA pour la catégorie 2</u></span></center>"
   ]
  },
  {
   "cell_type": "code",
   "execution_count": null,
   "id": "7da5b8d6",
   "metadata": {},
   "outputs": [],
   "source": [
    "#Affichage du CA pour la cat 2\n",
    "cat_2 = recap[recap[\"categorie\"] == 2]\n",
    "ca_2 = cat_2.groupby(\"annee_mois\")[\"CA\"].sum()\n",
    "plt.figure(figsize=(15, 5))\n",
    "plt.plot(ca_2.index, ca_2.values, color=\"green\", label=\"Catégorie 2\")\n",
    "plt.title(\"Evolution du chiffre d'affaire de la catégorie 2\")\n",
    "plt.legend()\n",
    "plt.xticks(rotation=90, fontsize=12)\n",
    "plt.show()"
   ]
  },
  {
   "cell_type": "code",
   "execution_count": null,
   "id": "7b029b55",
   "metadata": {
    "scrolled": false
   },
   "outputs": [],
   "source": [
    "#Evolution de CA dans le temps\n",
    "evo_ca0 = ca_0.diff()\n",
    "evo_ca1 = ca_1.diff()\n",
    "evo_ca2 = ca_2.diff()\n",
    "plt.figure(figsize=(15, 5))\n",
    "plt.plot(evo_ca0.index, evo_ca0.values)\n",
    "plt.plot(evo_ca1.index, evo_ca1.values)\n",
    "plt.plot(evo_ca2.index, evo_ca2.values)\n",
    "plt.title(\"Evolution du chiffre d'affaire dans le temps\")\n",
    "plt.xlabel(\"mois\")\n",
    "plt.ylabel(\"Variation du chiffre d'affaire\")\n",
    "plt.xticks(rotation=90, fontsize=12)\n",
    "plt.legend([\"categorie 0\", \"categorie 1\", \"categorie 2\"])\n",
    "plt.show()"
   ]
  },
  {
   "cell_type": "markdown",
   "id": "1d9daf49",
   "metadata": {},
   "source": [
    "###  <center><span style=\"color:#2db4af\"><u>Evolution dans le temps avec moyenne mobile</u></span></center>"
   ]
  },
  {
   "cell_type": "markdown",
   "id": "273ea305",
   "metadata": {},
   "source": [
    "###### <span style=\"color:#8a2be2\">La décomposition en moyenne mobile est une méthode utilisée en statistiques pour comprendre comment une série de données évolue au fil du temps. Cette méthode consiste à diviser la série de données en plusieurs composantes, telles que la tendance, la saisonnalité et les fluctuations aléatoires.</span>"
   ]
  },
  {
   "cell_type": "markdown",
   "id": "07a3e655",
   "metadata": {},
   "source": [
    "###### <span style=\"color:#8a2be2\">La moyenne mobile est une technique utilisée en analyse de données pour lisser les fluctuations aléatoires d'une série temporelle. Cette technique implique de prendre la moyenne des données d'une série temporelle sur une période spécifique, puis de faire glisser cette période dans le temps pour produire une série de valeurs lissées. La moyenne mobile peut aider à mettre en évidence des tendances à long terme dans une série temporelle en réduisant le bruit et les fluctuations aléatoires. Les moyennes mobiles sont souvent utilisées pour l'analyse de données financières, l'analyse économique, la prévision de la demande et d'autres applications où il est important d'identifier les tendances et les modèles dans les données temporelles.</span>"
   ]
  },
  {
   "cell_type": "code",
   "execution_count": null,
   "id": "745daf7d",
   "metadata": {},
   "outputs": [],
   "source": [
    "recap.sort_values('date', inplace=True)\n",
    "df = pd.pivot_table(recap, values='CA', index='date', aggfunc='sum')\n",
    "df['rolling_mean'] = df['CA'].rolling(window=7).mean()\n",
    "df['rolling_mean'].fillna(df['rolling_mean'].mean(), inplace=True)\n",
    "result = seasonal_decompose(df['rolling_mean'], model='additive', period=7)"
   ]
  },
  {
   "cell_type": "code",
   "execution_count": null,
   "id": "4468678a",
   "metadata": {
    "scrolled": false
   },
   "outputs": [],
   "source": [
    "fig = result.observed.plot(title='Série chronologique originale', color='blue', ylabel='CA en euros', fontsize=14, figsize=(15, 6))\n",
    "display(fig)"
   ]
  },
  {
   "cell_type": "markdown",
   "id": "08afe2cb",
   "metadata": {},
   "source": [
    "###### Ce graphique représente la série chronologique originale, avec toutes ses variations saisonnières, tendances et résiduelles. Il permet de voir comment la série chronologique évolue sur l'ensemble de la période, avec toutes les fluctuations à court terme, les variations saisonnières et les tendances à long terme."
   ]
  },
  {
   "cell_type": "code",
   "execution_count": null,
   "id": "30cee881",
   "metadata": {
    "scrolled": false
   },
   "outputs": [],
   "source": [
    "fig = result.trend.plot(title='Tendance', color='green', ylabel='CA en euros', fontsize=14, figsize=(15, 6))\n",
    "display(fig)"
   ]
  },
  {
   "cell_type": "markdown",
   "id": "024777a4",
   "metadata": {},
   "source": [
    "###### Ce graphique représente la tendance de la série chronologique. Il montre comment la série chronologique évolue sur une longue période de temps, sans les variations saisonnières ou les fluctuations à court terme. La tendance peut être croissante, décroissante ou plate."
   ]
  },
  {
   "cell_type": "code",
   "execution_count": null,
   "id": "1125f5e3",
   "metadata": {
    "scrolled": false
   },
   "outputs": [],
   "source": [
    "fig = result.resid.plot(title='Résidus', color='red', ylabel='CA en euros', fontsize=14, figsize=(15, 6))\n",
    "display(fig)"
   ]
  },
  {
   "cell_type": "markdown",
   "id": "b11c640a",
   "metadata": {},
   "source": [
    "###### Ce graphique représente les résidus de la série chronologique. Les résidus sont les différences entre la série chronologique et la somme de sa tendance et de sa saisonnalité. Ils reflètent les variations aléatoires de la série chronologique qui ne peuvent pas être expliquées par la tendance ou la saisonnalité."
   ]
  },
  {
   "cell_type": "markdown",
   "id": "2e3544b9",
   "metadata": {},
   "source": [
    "###### <span style=\"color:#8a2be2\">La méthode de décomposition en moyenne mobile utilise des moyennes mobiles pour estimer les différentes composantes de la série de données. En utilisant cette méthode, il est possible de séparer les différentes tendances et les différentes saisons dans une série de données et d'identifier les fluctuations aléatoires qui ne peuvent pas être expliquées par ces tendances et saisons. Cela permet de mieux comprendre les motifs et les tendances dans les données et d'effectuer des prévisions plus précises.</span>"
   ]
  },
  {
   "cell_type": "code",
   "execution_count": null,
   "id": "3aad3a76",
   "metadata": {},
   "outputs": [],
   "source": [
    "#Graphique de la moyenne mobile\n",
    "fig, ax = plt.subplots(figsize=[15,10])\n",
    "\n",
    "#Chiffre d'affaire\n",
    "ax.plot(df.index, df['CA'], color='cyan', linewidth=1)\n",
    "\n",
    "#Moyenne mobile\n",
    "ax.plot(df.index, df['rolling_mean'], color='purple', linewidth=2)\n",
    "\n",
    "#Axe et legende du graphique\n",
    "ax.legend(labels=[\"Chiffre d'affaire\",\"Moyenne mobile\"])\n",
    "ax.set_title(\"Décomposition moyenne mobile\")\n",
    "ax.set_yticks(np.arange(13000, 20500, 500))\n",
    "ax.set_xlabel(\"Date\")\n",
    "ax.set_ylabel(\"Chiffre d'affaires en euros\")\n",
    "plt.xticks(rotation=45, fontsize=12)\n",
    "\n",
    "#Affichage\n",
    "plt.show()"
   ]
  },
  {
   "cell_type": "markdown",
   "id": "e84b7485",
   "metadata": {},
   "source": [
    "###### La ligne cyan représente le chiffre d'affaires réel de l'entreprise, tandis que la ligne violette représente la moyenne mobile, la moyenne des chiffres d'affaires."
   ]
  },
  {
   "cell_type": "markdown",
   "id": "4d2d1c0b",
   "metadata": {},
   "source": [
    "###  <center><span style=\"color:#2db4af\"><u>Zoom sur les références</u></span></center>"
   ]
  },
  {
   "cell_type": "markdown",
   "id": "b581fda9",
   "metadata": {},
   "source": [
    "####  <center><span style=\"color:#008080\"><u>Apercu global</u></span></center>"
   ]
  },
  {
   "cell_type": "code",
   "execution_count": null,
   "id": "82be5a69",
   "metadata": {},
   "outputs": [],
   "source": [
    "#Préparation des données pour chaque catégorie de produit\n",
    "cat_0 = recap[recap[\"produit\"].str.startswith(\"0_\")][\"CA\"].values\n",
    "cat_1 = recap[recap[\"produit\"].str.startswith(\"1_\")][\"CA\"].values\n",
    "cat_2 = recap[recap[\"produit\"].str.startswith(\"2_\")][\"CA\"].values\n",
    "\n",
    "#Affichage du graphique\n",
    "fig, ax = plt.subplots(figsize=(18, 8))\n",
    "plt.boxplot([cat_0, cat_1, cat_2], vert=False)\n",
    "plt.yticks([1, 2, 3], [\"Catégorie 0_xxxxx\", \"Catégorie 1_xxxxx\", \"Catégorie 2_xxxxx\"])\n",
    "plt.xlabel(\"Valeurs en euros\")\n",
    "plt.title(\"Ventes par catégorie de produit\")\n",
    "ax.set_xticks(range(0, 320, 5))\n",
    "ax.set_xlim(0, 320)\n",
    "plt.xticks(rotation=90, fontsize=12)\n",
    "plt.show()"
   ]
  },
  {
   "cell_type": "markdown",
   "id": "d586e7be",
   "metadata": {},
   "source": [
    "####  <center><span style=\"color:#008080\"><u>Top / Flop global</u></span></center>"
   ]
  },
  {
   "cell_type": "code",
   "execution_count": null,
   "id": "7f5c21c2",
   "metadata": {},
   "outputs": [],
   "source": [
    "#Le Top 10\n",
    "top_10_pdt = recap.groupby(\"produit\")[\"CA\"].sum().sort_values(ascending=False)\n",
    "print(f\"Top 10 des produits par CA :\\n{top_10_pdt.head(10)}\")"
   ]
  },
  {
   "cell_type": "code",
   "execution_count": null,
   "id": "0a3db1a1",
   "metadata": {},
   "outputs": [],
   "source": [
    "#Le Flop 10\n",
    "supp_2245 = recap[recap[\"produit\"] == \"0_2245\"].index\n",
    "recap = recap.drop(supp_2245)\n",
    "flop_10_pdt = recap.groupby(\"produit\")[\"CA\"].sum().sort_values(ascending=True)\n",
    "print(f\"flop 10 des produits par CA :\\n{flop_10_pdt.head(10)}\")"
   ]
  },
  {
   "cell_type": "markdown",
   "id": "0ba301b5",
   "metadata": {},
   "source": [
    "####  <center><span style=\"color:#008080\"><u>Top / Flop par catégories</u></span></center>"
   ]
  },
  {
   "cell_type": "code",
   "execution_count": null,
   "id": "d1d91b69",
   "metadata": {},
   "outputs": [],
   "source": [
    "#Classement des Top 5 et flop pour la catégorie de produit 0\n",
    "cat_0_sales = recap[recap[\"produit\"].str.startswith(\"0_\")]\n",
    "cat_0_top_5 = cat_0_sales.groupby(\"produit\")[\"CA\"].sum().sort_values(ascending=False).head(5)\n",
    "cat_0_flop_5 = cat_0_sales.groupby(\"produit\")[\"CA\"].sum().sort_values(ascending=True).head(5)\n",
    "\n",
    "#Classement des Top 5 et flop pour la catégorie de produit 1\n",
    "cat_1_sales = recap[recap[\"produit\"].str.startswith(\"1_\")]\n",
    "cat_1_top_5 = cat_1_sales.groupby(\"produit\")[\"CA\"].sum().sort_values(ascending=False).head(5)\n",
    "cat_1_flop_5 = cat_1_sales.groupby(\"produit\")[\"CA\"].sum().sort_values(ascending=True).head(5)\n",
    "\n",
    "#Classement des Top 5 et flop pour la catégorie de produit 2\n",
    "cat_2_sales = recap[recap[\"produit\"].str.startswith(\"2_\")]\n",
    "cat_2_top_5 = cat_2_sales.groupby(\"produit\")[\"CA\"].sum().sort_values(ascending=False).head(5)\n",
    "cat_2_flop_5 = cat_2_sales.groupby(\"produit\")[\"CA\"].sum().sort_values(ascending=True).head(5)"
   ]
  },
  {
   "cell_type": "code",
   "execution_count": null,
   "id": "85b07993",
   "metadata": {},
   "outputs": [],
   "source": [
    "print(\"Top 5 pour la catégorie 0 : \")\n",
    "print(cat_0_top_5)\n",
    "print(\"Flop pour la catégorie 0 : \")\n",
    "print(cat_0_flop_5)"
   ]
  },
  {
   "cell_type": "code",
   "execution_count": null,
   "id": "833f7480",
   "metadata": {},
   "outputs": [],
   "source": [
    "print(\"Top 5 pour la catégorie 1 : \")\n",
    "print(cat_1_top_5)\n",
    "print(\"Flop pour la catégorie 1 : \")\n",
    "print(cat_1_flop_5)"
   ]
  },
  {
   "cell_type": "code",
   "execution_count": null,
   "id": "78f2681c",
   "metadata": {},
   "outputs": [],
   "source": [
    "print(\"Top 5 pour la catégorie 2 : \")\n",
    "print(cat_2_top_5)\n",
    "print(\"Flop pour la catégorie 2 : \")\n",
    "print(cat_2_flop_5)"
   ]
  },
  {
   "cell_type": "markdown",
   "id": "db3adb89",
   "metadata": {},
   "source": [
    "####  <center><span style=\"color:#008080\"><u>Répartition du CA par catégorie de produit</u></span></center>"
   ]
  },
  {
   "cell_type": "code",
   "execution_count": null,
   "id": "459a6e71",
   "metadata": {
    "scrolled": false
   },
   "outputs": [],
   "source": [
    "#Liste des catégories\n",
    "categories = [0, 1, 2]\n",
    "ca_categories = []\n",
    "\n",
    "#Calcul du CA des catégories\n",
    "for cat in categories:\n",
    "    ca_cat = recap[recap['categorie'] == cat]['CA'].sum()\n",
    "    ca_categories.append(ca_cat)\n",
    "\n",
    "#Affichage du graphique\n",
    "plt.bar(range(len(categories)), ca_categories)\n",
    "plt.title(\"Répartition du chiffre d'affaires par catégorie\")\n",
    "plt.xlabel(\"Catégorie\")\n",
    "plt.ylabel(\"Chiffre d'affaires\")\n",
    "plt.ticklabel_format(style=\"plain\", axis=\"y\")\n",
    "plt.xticks(range(len(categories)), categories)\n",
    "plt.show()"
   ]
  },
  {
   "cell_type": "markdown",
   "id": "89e694e5",
   "metadata": {},
   "source": [
    "###  <center><span style=\"color:#2db4af\"><u>Profils des clients</u></span></center>"
   ]
  },
  {
   "cell_type": "markdown",
   "id": "44b40247",
   "metadata": {},
   "source": [
    "####  <center><span style=\"color:#008080\"><u>Répartition du chiffre d'affaire par groupe d'âge</u></span></center>"
   ]
  },
  {
   "cell_type": "code",
   "execution_count": null,
   "id": "297ab38e",
   "metadata": {},
   "outputs": [],
   "source": [
    "#Calcul de l'age des clients\n",
    "bins=[-1, 19, 29, 39, 49, 59, 69, 79, 89, 99]\n",
    "labels = ['0-19', '20-29', '30-39', '40-49', '50-59', '60-69', '70-79', '80-89', '90-99']\n",
    "recap['age_grp'] = pd.cut(2023 - recap['naissance'], bins=bins, labels=labels)\n",
    "\n",
    "#Regroupement par age pour le calcul du CA\n",
    "ca_age = recap.groupby('age_grp')['CA'].sum().reset_index()\n",
    "\n",
    "#Affichage du graphique\n",
    "plt.figure(figsize=(15, 8))\n",
    "sns.barplot(x='age_grp', y='CA', data=ca_age, palette='pastel')\n",
    "plt.title(\"Répartition du chiffre d'affaires par groupe d'âge\")\n",
    "plt.xlabel(\"Tranche d'âge\")\n",
    "plt.ylabel(\"Chiffre d'affaires (en euros)\")\n",
    "plt.ticklabel_format(style=\"plain\", axis=\"y\")\n",
    "plt.xticks(rotation=90, fontsize=12)\n",
    "plt.show()"
   ]
  },
  {
   "cell_type": "markdown",
   "id": "5de79c33",
   "metadata": {},
   "source": [
    "####  <center><span style=\"color:#008080\"><u>Répartition du chiffre d'affaire par genre</u></span></center>"
   ]
  },
  {
   "cell_type": "code",
   "execution_count": null,
   "id": "e3e36ed3",
   "metadata": {},
   "outputs": [],
   "source": [
    "#Sélection des données\n",
    "ca_fem = recap[recap[\"sexe\"] == \"f\"][\"CA\"]\n",
    "ca_masc = recap[recap[\"sexe\"] == \"m\"][\"CA\"]\n",
    "\n",
    "#Création du graphique\n",
    "sns.set(style=\"whitegrid\")\n",
    "sns.boxplot(x=\"sexe\", y=\"CA\", data=recap)\n",
    "sns.violinplot(x=\"sexe\", y=\"CA\", data=recap, color=\".8\")\n",
    "\n",
    "#labels et affichage du graphique\n",
    "plt.xlabel(\"Sexe\")\n",
    "plt.ylabel(\"Chiffre d'affaires\")\n",
    "plt.title(\"Comparaison des chiffres d'affaires par sexe\")\n",
    "plt.show()"
   ]
  },
  {
   "cell_type": "code",
   "execution_count": null,
   "id": "d741ad05",
   "metadata": {},
   "outputs": [],
   "source": [
    "#Reroupement par genre et calcul du CA\n",
    "ca_sexe = recap.groupby('sexe')['CA'].sum().reset_index()\n",
    "\n",
    "#Affichage du graphique\n",
    "labels = ca_sexe['sexe']\n",
    "sizes = ca_sexe['CA']\n",
    "plt.figure(figsize=(6,6))\n",
    "plt.pie(sizes, labels=labels, autopct='%1.1f%%', startangle=90)\n",
    "plt.title('Répartition du chiffre d\\'affaires par genre')\n",
    "plt.axis('equal')\n",
    "plt.show()\n",
    "\n",
    "#Montant total du CA\n",
    "print(f\"Le chiffre d'affaire par genre :\\n {ca_sexe}\")"
   ]
  },
  {
   "cell_type": "markdown",
   "id": "2df9c28f",
   "metadata": {},
   "source": [
    "####  <center><span style=\"color:#008080\"><u>Affichage de la courbes de Lorenz</u></span></center>"
   ]
  },
  {
   "cell_type": "markdown",
   "id": "d82329a9",
   "metadata": {},
   "source": [
    "###### <span style=\"color:#8a2be2\">La courbe de Lorenz est un graphique utilisé en économie pour représenter la distribution de la richesse ou du revenu au sein d'une population. Elle montre la proportion cumulée de la richesse ou du revenu détenu par les différentes tranches de la population, en partant de la tranche la plus pauvre jusqu'à la tranche la plus riche. La courbe de Lorenz permet de visualiser facilement la répartition de la richesse ou du revenu dans une population donnée et d'évaluer la mesure de l'inégalité de cette distribution. Plus la courbe de Lorenz s'éloigne de la ligne de parfaite égalité, plus l'inégalité est grande.</span>"
   ]
  },
  {
   "cell_type": "code",
   "execution_count": null,
   "id": "65f8e18a",
   "metadata": {
    "scrolled": false
   },
   "outputs": [],
   "source": [
    "#Calcul du chiffre d'affaires total par client\n",
    "ca_par_client = recap.groupby('client')['CA'].sum()\n",
    "\n",
    "#Calcul de la part du chiffre d'affaires réalisée par chaque client\n",
    "part_ca_par_client = ca_par_client / ca_par_client.sum()\n",
    "\n",
    "#Triage des parts du chiffre d'affaires par ordre décroissant\n",
    "part_ca_par_client_triees = part_ca_par_client.sort_values(ascending=False)\n",
    "\n",
    "#Calcul de la courbe de Lorenz\n",
    "cumul_part_ca_par_client = np.cumsum(part_ca_par_client_triees)\n",
    "cumul_ca_par_client = np.cumsum(ca_par_client[part_ca_par_client_triees.index])\n",
    "lorenz_curve_clients = cumul_ca_par_client / cumul_ca_par_client.max()\n",
    "\n",
    "#Calcul de l'indice de Gini\n",
    "ecart_type = np.linspace(0,1,len(lorenz_curve_clients))\n",
    "indices = np.trapz(lorenz_curve_clients, ecart_type)\n",
    "indice_gini = (indices - 0.5) / 0.5\n",
    "\n",
    "#Courbe de Lorenz\n",
    "plt.plot([0,1], [0,1], color='grey', linestyle='--', label='Répartition équitable')\n",
    "plt.plot(np.linspace(0,1,len(lorenz_curve_clients)), lorenz_curve_clients, label='Courbe de Lorenz')\n",
    "plt.title(\"Courbe de Lorenz avec part des client et du CA\")\n",
    "plt.xlabel(\"Part des clients\")\n",
    "plt.ylabel(\"Part du chiffre d'affaires\")\n",
    "plt.legend()\n",
    "\n",
    "#Affichage de l'indice de Gini\n",
    "plt.text(0.4, 0.2, f'Indice de Gini : {indice_gini:.2f}', fontsize=12)\n",
    "plt.text(0.4, 0.15, \"La répartition des clients est inéquitable\")\n",
    "plt.show()"
   ]
  },
  {
   "cell_type": "markdown",
   "id": "df884d01",
   "metadata": {},
   "source": [
    "###### la répartition des clients est inéquitable, ce qui est confirmé par l'indice de Gini de 0,45. Cela signifie qu'une petite proportion de clients génère une grande partie du chiffre d'affaires, tandis qu'une grande proportion de clients ne génère qu'une petite partie du chiffre d'affaires."
   ]
  },
  {
   "cell_type": "code",
   "execution_count": null,
   "id": "6c4f4d5d",
   "metadata": {},
   "outputs": [],
   "source": [
    "#Calcul du chiffre d'affaires total par client\n",
    "ca_par_client = recap.groupby('client')['CA'].sum()\n",
    "\n",
    "#Calcul de la part du chiffre d'affaires réalisée par chaque client\n",
    "part_ca_par_client = ca_par_client / ca_par_client.sum()\n",
    "\n",
    "#Triage des parts du chiffre d'affaires par ordre décroissant\n",
    "part_ca_par_client_triees = part_ca_par_client.sort_values(ascending=False)\n",
    "\n",
    "#Calcul de la courbe de Lorenz\n",
    "cumul_part_ca_par_client = np.cumsum(part_ca_par_client_triees)\n",
    "cumul_ca_par_client = np.cumsum(ca_par_client[part_ca_par_client_triees.index])\n",
    "lorenz_curve_clients = cumul_ca_par_client / cumul_ca_par_client.max()\n",
    "\n",
    "#Tracé de la courbe de Lorenz\n",
    "fig, ax = plt.subplots()\n",
    "ax.plot(lorenz_curve_clients, np.linspace(0,1,len(lorenz_curve_clients)))\n",
    "ax.plot([0,1], [0,1], color='grey', linestyle='--')\n",
    "ax.set(title=\"Courbe de Lorenz des clients\",\n",
    "xlabel=\"Part du chiffre d'affaires\",\n",
    "ylabel=\"Part des clients\")\n",
    "plt.show()"
   ]
  },
  {
   "cell_type": "markdown",
   "id": "54c1477b",
   "metadata": {},
   "source": [
    "###### On peut voir que les 20% des clients qui réalisent les ventes les plus élevées représentent environ 50% du chiffre d'affaires total, tandis que les 80% des clients restants représentent environ 50% du chiffre d'affaires."
   ]
  },
  {
   "cell_type": "code",
   "execution_count": null,
   "id": "c549c218",
   "metadata": {},
   "outputs": [],
   "source": [
    "#Calculer du CA par client\n",
    "ca_par_client = recap.groupby(\"client\")[\"CA\"].sum()\n",
    "\n",
    "#Classement des 25 clients ayant le plus de CA\n",
    "clients_top = ca_par_client.sort_values(ascending=False).head(25)\n",
    "\n",
    "#Affichage du graphique\n",
    "plt.figure(figsize=(7,5))\n",
    "sns.barplot(x=clients_top.values, y=clients_top.index, palette='magma')\n",
    "plt.title(\"Part du CA par client\", fontsize=15, fontweight='bold')\n",
    "plt.ylabel(\"Client\", fontsize=11)\n",
    "plt.xlabel(\"Chiffre d'affaires (€)\", fontsize=11)\n",
    "plt.show()"
   ]
  },
  {
   "cell_type": "markdown",
   "id": "469f70b3",
   "metadata": {},
   "source": [
    "##  <center><span style=\"color:grey\"><u>Julie</u></span></center>"
   ]
  },
  {
   "cell_type": "markdown",
   "id": "6784183e",
   "metadata": {},
   "source": [
    "####  <center><span style=\"color:#008080\"><u>Lien entre le genre d'un client et les catégories </u></span></center>"
   ]
  },
  {
   "cell_type": "code",
   "execution_count": null,
   "id": "63ad9bf7",
   "metadata": {
    "scrolled": false
   },
   "outputs": [],
   "source": [
    "#Regroupement des données par catégorie et genre\n",
    "grouped = recap.groupby(['categorie', 'sexe']).size().reset_index(name='count')\n",
    "\n",
    "#Affichage du graphique\n",
    "sns.set(style='whitegrid')\n",
    "sns.barplot(x='categorie', y='count', hue='sexe', data=grouped)\n",
    "plt.title('Répartition des clients par catégorie et genre')\n",
    "plt.xlabel('Catégorie')\n",
    "plt.ylabel('Nombre de clients')\n",
    "plt.show()"
   ]
  },
  {
   "cell_type": "markdown",
   "id": "2eb7d4b7",
   "metadata": {},
   "source": [
    "###### Les hommes achète d'avantage de produit dans les catégorie 0 et 2 tandis que les femmes sont plus adèpte de produit de la catégorie 1"
   ]
  },
  {
   "cell_type": "markdown",
   "id": "a75a16d3",
   "metadata": {},
   "source": [
    "####  <center><span style=\"color:#008080\"><u>Lien entre l'age des clients</u></span></center>"
   ]
  },
  {
   "cell_type": "code",
   "execution_count": null,
   "id": "189a3add",
   "metadata": {
    "scrolled": false
   },
   "outputs": [],
   "source": [
    "#Création d'un sous-ensemble de données avec les colonnes 'age' et 'sexe'\n",
    "data = recap[['age', 'sexe']]\n",
    "\n",
    "#Création de deux sous-ensembles de données pour chaque sexe\n",
    "data_f = data[data['sexe'] == 'f']\n",
    "data_m = data[data['sexe'] == 'm']\n",
    "\n",
    "#Création d'un histogramme pour chaque sexe\n",
    "plt.hist(data_f['age'], bins=10, alpha=0.5, label='Femme')\n",
    "plt.hist(data_m['age'], bins=10, alpha=0.5, label='Homme')\n",
    "\n",
    "#Titre et legende du graphique\n",
    "plt.title(\"Répartition des âges par sexe\")\n",
    "plt.xlabel(\"Âge\")\n",
    "plt.ylabel(\"Nombre d'individus\")\n",
    "plt.legend(loc='upper right')\n",
    "plt.show()"
   ]
  },
  {
   "cell_type": "markdown",
   "id": "2567ebd2",
   "metadata": {},
   "source": [
    "####  <center><span style=\"color:#008080\"><u>Montant et répartition des achats par tranches d'age</u></span></center>"
   ]
  },
  {
   "cell_type": "code",
   "execution_count": null,
   "id": "de019a79",
   "metadata": {},
   "outputs": [],
   "source": [
    "#Préparation des données\n",
    "recap['naissance'] = pd.to_datetime(recap['naissance'], format='%Y')\n",
    "now = datetime.now().year\n",
    "recap['age'] = now - recap['naissance'].dt.year\n",
    "\n",
    "#Préparetion des groupes d'ages\n",
    "age_bins = [i for i in range(0, 101, 10)]\n",
    "age_labels = [f\"{i}-{i+9}\" for i in range(0, 100, 10)]\n",
    "recap['age_group'] = pd.cut(recap['age'], bins=age_bins, labels=age_labels)\n",
    "cat_par_age = recap.groupby(['age_group', 'categorie'])['produit'].count().unstack()\n",
    "\n",
    "#Affichage du graphique\n",
    "ax = cat_par_age.plot(kind='bar', stacked=True)\n",
    "ax.set_xticklabels(age_labels, rotation=0)\n",
    "plt.ylim(0, 225000)\n",
    "plt.title(\"Nombre de produits achetés par tranche d'âge et par catégorie de produit\")\n",
    "plt.xlabel(\"Tranche d'âge\")\n",
    "plt.ylabel(\"Nombre de produits achetés\")\n",
    "plt.legend(title='Catégorie')\n",
    "plt.show()"
   ]
  },
  {
   "cell_type": "markdown",
   "id": "4ab9839a",
   "metadata": {},
   "source": [
    "####  <center><span style=\"color:#008080\"><u>Répartition du panier moyen par groupe d'âge</u></span></center>"
   ]
  },
  {
   "cell_type": "code",
   "execution_count": null,
   "id": "4972d66f",
   "metadata": {},
   "outputs": [],
   "source": [
    "#Calcul du panier moyen par groupe d'âge\n",
    "panier_moyen_age = recap.groupby('age_grp')['CA'].mean().reset_index()\n",
    "\n",
    "#Affichage du graphique\n",
    "plt.figure(figsize=(15, 8))\n",
    "sns.barplot(x='age_grp', y='CA', data=panier_moyen_age, palette='pastel')\n",
    "plt.title(\"Panier moyen par groupe d'âge\")\n",
    "plt.xlabel(\"Tranche d'âge\")\n",
    "plt.ylabel(\"Panier moyen (en euros)\")\n",
    "plt.ticklabel_format(style=\"plain\", axis=\"y\")\n",
    "plt.xticks(rotation=90, fontsize=12)\n",
    "plt.show()"
   ]
  },
  {
   "cell_type": "markdown",
   "id": "56ccae93",
   "metadata": {},
   "source": [
    "####  <center><span style=\"color:#008080\"><u>Montant et répartition des achats par tranches d'age</u></span></center>"
   ]
  },
  {
   "cell_type": "code",
   "execution_count": null,
   "id": "f77a4b16",
   "metadata": {},
   "outputs": [],
   "source": [
    "#Préparation des données\n",
    "recap['naissance'] = pd.to_datetime(recap['naissance'], format='%Y')\n",
    "now = datetime.now().year\n",
    "recap['age'] = now - recap['naissance'].dt.year\n",
    "\n",
    "#Préparation des groupes d'ages\n",
    "age_bins = [i for i in range(0, 101, 10)]\n",
    "age_labels = [f\"{i}-{i+9}\" for i in range(0, 100, 10)]\n",
    "recap['age_group'] = pd.cut(recap['age'], bins=age_bins, labels=age_labels)\n",
    "freq_achat_par_age = recap.groupby(['age_group'])['session'].nunique()\n",
    "\n",
    "#Affichage du graphique\n",
    "plt.figure(figsize=(15, 6))\n",
    "ax = freq_achat_par_age.plot(kind='bar', color=\"navy\")\n",
    "ax.set_xticklabels(age_labels, rotation=0)\n",
    "plt.ylim(0, 100000)\n",
    "plt.title(\"Fréquence d'achat par tranche d'âge\")\n",
    "plt.xlabel(\"Tranche d'âge\")\n",
    "plt.ylabel(\"Nombre de sessions d'achat\")\n",
    "plt.show()"
   ]
  },
  {
   "cell_type": "markdown",
   "id": "a788d8e8",
   "metadata": {},
   "source": [
    "####  <center><span style=\"color:#008080\"><u>Tests supplémentaire</u></span></center>"
   ]
  },
  {
   "cell_type": "markdown",
   "id": "9791cf3a",
   "metadata": {},
   "source": [
    "## Test du χ²"
   ]
  },
  {
   "cell_type": "markdown",
   "id": "8995dd93",
   "metadata": {},
   "source": [
    "###### <span style=\"color:#8a2be2\">Le test du Chi-carré (χ², chi2, chi deux) est une méthode statistique utilisée pour déterminer si deux variables catégorielles sont indépendantes ou non. Il compare les fréquences observées des variables à celles qui seraient attendues si les variables étaient indépendantes. Si les fréquences observées sont significativement différentes des fréquences attendues, cela indique que les variables ne sont pas indépendantes. Le test du Chi-carré est souvent utilisé dans les enquêtes d'opinion, les études de marché, la sociologie et d'autres domaines où il est nécessaire de déterminer s'il existe une relation entre deux variables nominales ou ordinales. Il peut également être utilisé pour comparer les fréquences de différentes catégories dans une seule variable.</span>"
   ]
  },
  {
   "cell_type": "code",
   "execution_count": null,
   "id": "398b6f7d",
   "metadata": {
    "scrolled": false
   },
   "outputs": [],
   "source": [
    "#Tableau de contingence entre la catégorie et le sexe des clients\n",
    "contingence_table = pd.crosstab(recap['categorie'], recap['sexe'])\n",
    "\n",
    "#Calcul du chi2 et de la p-value\n",
    "chi2, p, dof, expected = chi2_contingency(contingence_table)\n",
    "\n",
    "#Création du graphique en heatmap\n",
    "sns.heatmap(contingence_table, annot=True, fmt='d', cmap='Blues')\n",
    "\n",
    "#Ajout des légendes du graphique\n",
    "plt.title(\"Tableau de contingence catégorie/genre\\nChi2 = {:.2f}, p = {:.3f}\".format(chi2, p))\n",
    "plt.xlabel(\"Genre\")\n",
    "plt.ylabel(\"Catégorie\")\n",
    "plt.show()"
   ]
  },
  {
   "cell_type": "markdown",
   "id": "f4dcee2c",
   "metadata": {},
   "source": [
    "###### Le graphique montre les catégories de clients en fonction du sexe des clients. On peut constater que la catégorie 0 est majoritairement représentée par les femmes par rapport aux autre catégorie ou elle ce situe. Il y a plus d'homme que de femme dans la catégorie 2. La catégorie 1 est relativement bien répartie entre les sexes masculin et féminin."
   ]
  },
  {
   "cell_type": "markdown",
   "id": "a8afacad",
   "metadata": {},
   "source": [
    "###### Chi2 = 139.96 Cette valeur de test indique que la relation entre les variables \"catégorie des clients\" et \"sexe des clients\" est statistiquement significative."
   ]
  },
  {
   "cell_type": "markdown",
   "id": "a8ceaab2",
   "metadata": {},
   "source": [
    "###### p-value = 0.000 Cette valeur signifie que la probabilité d'obtenir un tel résultat par hasard est très faible (inférieure à 0,001), ce qui renforce la conclusion que la relation entre les variables est significative."
   ]
  },
  {
   "cell_type": "markdown",
   "id": "25918ed2",
   "metadata": {},
   "source": [
    "## Test de Pearson"
   ]
  },
  {
   "cell_type": "markdown",
   "id": "100acced",
   "metadata": {},
   "source": [
    "###### <span style=\"color:#8a2be2\">Le test de corrélation de Pearson, également appelé coefficient de corrélation de Pearson, est utilisé pour mesurer la relation linéaire entre deux variables continues. Il calcule un coefficient de corrélation, noté r, qui varie de -1 à 1. Si le coefficient est proche de -1, cela indique une corrélation négative forte, tandis qu'un coefficient proche de 1 indique une corrélation positive forte. Un coefficient proche de 0 indique une faible corrélation. Le test de corrélation de Pearson est souvent utilisé dans les domaines de la psychologie, de la sociologie, de l'économie, des sciences de la santé et d'autres domaines où la relation entre deux variables doit être mesurée.</span>"
   ]
  },
  {
   "cell_type": "code",
   "execution_count": null,
   "id": "6370224d",
   "metadata": {},
   "outputs": [],
   "source": [
    "#Préparation des données\n",
    "recap['naissance'] = pd.to_datetime(recap['naissance'], format='%Y')\n",
    "recap['Birth Pearson'] = recap['naissance'].dt.year.astype(int)\n",
    "y = recap['CA']\n",
    "x = recap['Birth Pearson']\n",
    "corr, p_value = pearsonr(x, y)\n",
    "\n",
    "#Analyse des résultats du Test\n",
    "print(\"Coefficient de corrélation :\", corr)\n",
    "print(\"Valeur p :\", round(p_value, 4))\n",
    "\n",
    "#Affichage du graphique\n",
    "plt.figure(figsize=(15, 6))\n",
    "sns.regplot(x=x, y=y, color='red', line_kws={'color': 'blue'})\n",
    "plt.title(\"Test de Pearson entre l'âge et CA\")\n",
    "plt.xlabel(\"Année de naissance\")\n",
    "plt.ylabel(\"Chiffre d'affaires\")\n",
    "plt.show()"
   ]
  },
  {
   "cell_type": "markdown",
   "id": "89d083ed",
   "metadata": {},
   "source": [
    "###### Le coefficient de corrélation indique qu'il y a une faible corrélation positive entre l'année de naissance des clients et le  chiffre d'affaires de la librairie. Cela signifie que les clients plus âgés ne sont pas nécessairement plus susceptibles de    dépenser plus d'argent que les clients plus jeunes, mais qu'il y a une tendance générale à mesure que l'âge augmente."
   ]
  },
  {
   "cell_type": "markdown",
   "id": "058dad28",
   "metadata": {},
   "source": [
    "###### La valeur p suggère qu'il est très peu probable que la corrélation observée entre l'année de naissance des clients et le      chiffre d'affaires soit due au hasard. Cela suggère qu'il existe une relation significative entre ces deux variables."
   ]
  },
  {
   "cell_type": "code",
   "execution_count": null,
   "id": "0e515d09",
   "metadata": {},
   "outputs": [],
   "source": [
    "from scipy.stats import shapiro, anderson, bartlett, levene\n",
    "\n",
    "#Réalisation du Test de normalité\n",
    "stat_fem, pval_fem = shapiro(recap[recap[\"sexe\"] == \"f\"][\"CA\"])\n",
    "stat_masc, pval_masc = shapiro(recap[recap[\"sexe\"] == \"m\"][\"CA\"])\n",
    "\n",
    "print(\"Test de normalité - Femmes :\")\n",
    "print(\"Statistique de test :\", stat_fem)\n",
    "print(\"p-value :\", pval_fem)\n",
    "print(\"\\n\")\n",
    "\n",
    "print(\"Test de normalité - Hommes :\")\n",
    "print(\"Statistique de test :\", stat_masc)\n",
    "print(\"p-value :\", pval_masc)\n",
    "print(\"\\n\")\n",
    "\n",
    "#Réalisation du Test d'égalité des variances\n",
    "stat_var, pval_var = bartlett(ca_fem, ca_masc)\n",
    "\n",
    "print(\"Test d'égalité des variances :\")\n",
    "print(\"Statistique de test :\", stat_var)\n",
    "print(\"p-value :\", pval_var)\n",
    "print(\"\\n\")"
   ]
  },
  {
   "cell_type": "markdown",
   "id": "462e6001",
   "metadata": {},
   "source": [
    "###### Les tests de normalité pour les deux groupes ont des p-values inférieures à 0.05, ce qui indique que les distributions ne suivent pas une loi normale.\n",
    "\n",
    "###### Le test d'égalité des variances a une p-value très faible, ce qui indique que les variances des deux groupes ne sont pas égales.\n",
    "\n",
    "###### Je vais utiliser le test non parametrique de Mann-Whitney qui n'a pas d'hypothèse sur l'égalité des variances et qui va me permettre de comparer les moyennes des deux groupes."
   ]
  },
  {
   "cell_type": "code",
   "execution_count": null,
   "id": "a0d0fb99",
   "metadata": {},
   "outputs": [],
   "source": [
    "from scipy.stats import mannwhitneyu\n",
    "\n",
    "#Sélection des données\n",
    "ca_fem = recap[recap[\"sexe\"] == \"f\"][\"CA\"]\n",
    "ca_masc = recap[recap[\"sexe\"] == \"m\"][\"CA\"]\n",
    "\n",
    "#Réalisation du Test de Mann-Whitney\n",
    "statistic, pvalue = mannwhitneyu(ca_fem, ca_masc, alternative=\"two-sided\")\n",
    "\n",
    "#Affichage des résultats\n",
    "print(\"Statistique de test :\", statistic)\n",
    "print(\"p-value :\", pvalue)"
   ]
  },
  {
   "cell_type": "markdown",
   "id": "6d63366e",
   "metadata": {},
   "source": [
    "###### La statistique de test pour le test de Mann-Whitney est de 54840956154.5 et la p-value est de 0.8511890336635547. Étant donné que la p-value est supérieure à 0,05, on ne peut pas rejeter l'hypothèse nulle selon laquelle les deux groupes ont la même distribution. Par conséquent, il n'y a pas de preuve suffisante pour conclure que les chiffres d'affaires des femmes et des hommes sont significativement différents."
   ]
  },
  {
   "cell_type": "code",
   "execution_count": null,
   "id": "4e3ccdf2",
   "metadata": {},
   "outputs": [],
   "source": []
  }
 ],
 "metadata": {
  "kernelspec": {
   "display_name": "Python 3 (ipykernel)",
   "language": "python",
   "name": "python3"
  },
  "language_info": {
   "codemirror_mode": {
    "name": "ipython",
    "version": 3
   },
   "file_extension": ".py",
   "mimetype": "text/x-python",
   "name": "python",
   "nbconvert_exporter": "python",
   "pygments_lexer": "ipython3",
   "version": "3.11.5"
  }
 },
 "nbformat": 4,
 "nbformat_minor": 5
}
